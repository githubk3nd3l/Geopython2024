{
 "cells": [
  {
   "cell_type": "code",
   "execution_count": 63,
   "id": "c519dc95-e8e7-47f9-a609-86ff2d53670f",
   "metadata": {},
   "outputs": [],
   "source": [
    "station_names = ['lighthouse', 'Harmaja', 'Suomenlinna aaltopoiju', 'Kumpula', 'Kaisaniemi']\n",
    "station_start_years = [2003, 1989, 2016, 2005, 1844]"
   ]
  },
  {
   "cell_type": "code",
   "execution_count": 4,
   "id": "832eb53b-1c9d-4a43-930d-5c706f1a1d28",
   "metadata": {},
   "outputs": [
    {
     "data": {
      "text/plain": [
       "5"
      ]
     },
     "execution_count": 4,
     "metadata": {},
     "output_type": "execute_result"
    }
   ],
   "source": [
    "len(station_names)"
   ]
  },
  {
   "cell_type": "code",
   "execution_count": 5,
   "id": "f3d1b34a-26fc-454a-93e5-ab70e1626e9b",
   "metadata": {},
   "outputs": [
    {
     "data": {
      "text/plain": [
       "5"
      ]
     },
     "execution_count": 5,
     "metadata": {},
     "output_type": "execute_result"
    }
   ],
   "source": [
    "len(station_start_years)"
   ]
  },
  {
   "cell_type": "code",
   "execution_count": 7,
   "id": "6b0df9c7-7e44-471e-8c2e-0540d0902bfe",
   "metadata": {},
   "outputs": [
    {
     "name": "stdout",
     "output_type": "stream",
     "text": [
      "lighthouse\n"
     ]
    }
   ],
   "source": [
    "print(station_names[0])"
   ]
  },
  {
   "cell_type": "code",
   "execution_count": 8,
   "id": "1df40ec3-3cf9-44b0-a42e-9e14f3d37e9a",
   "metadata": {},
   "outputs": [
    {
     "data": {
      "text/plain": [
       "1844"
      ]
     },
     "execution_count": 8,
     "metadata": {},
     "output_type": "execute_result"
    }
   ],
   "source": [
    "station_start_years[-1]"
   ]
  },
  {
   "cell_type": "code",
   "execution_count": 64,
   "id": "4ad53615-5b34-43dd-8409-acb5c55ff961",
   "metadata": {},
   "outputs": [],
   "source": [
    "station_names.append('Malmi airfield')"
   ]
  },
  {
   "cell_type": "code",
   "execution_count": 65,
   "id": "ecb41a8c-fc40-4f67-9c40-6d73e8397ba2",
   "metadata": {},
   "outputs": [],
   "source": [
    "station_names.append('Vuosaari harbour')"
   ]
  },
  {
   "cell_type": "code",
   "execution_count": 66,
   "id": "8c0c2472-f258-46e1-933d-336894e8d0da",
   "metadata": {},
   "outputs": [],
   "source": [
    "station_names.append('Kaivopuisto')"
   ]
  },
  {
   "cell_type": "code",
   "execution_count": 67,
   "id": "452f69b9-90ef-4695-8fd0-925153a2819f",
   "metadata": {},
   "outputs": [
    {
     "data": {
      "text/plain": [
       "['lighthouse',\n",
       " 'Harmaja',\n",
       " 'Suomenlinna aaltopoiju',\n",
       " 'Kumpula',\n",
       " 'Kaisaniemi',\n",
       " 'Malmi airfield',\n",
       " 'Vuosaari harbour',\n",
       " 'Kaivopuisto']"
      ]
     },
     "execution_count": 67,
     "metadata": {},
     "output_type": "execute_result"
    }
   ],
   "source": [
    "station_names"
   ]
  },
  {
   "cell_type": "code",
   "execution_count": 16,
   "id": "779b0d74-c823-40a5-8529-fc18bce7cb50",
   "metadata": {},
   "outputs": [
    {
     "data": {
      "text/plain": [
       "8"
      ]
     },
     "execution_count": 16,
     "metadata": {},
     "output_type": "execute_result"
    }
   ],
   "source": [
    "len(station_names)"
   ]
  },
  {
   "cell_type": "code",
   "execution_count": 17,
   "id": "834b2b0d-7340-4976-a662-7dbe2c4236eb",
   "metadata": {},
   "outputs": [
    {
     "data": {
      "text/plain": [
       "'Kaivopuisto'"
      ]
     },
     "execution_count": 17,
     "metadata": {},
     "output_type": "execute_result"
    }
   ],
   "source": [
    "station_names[-1]"
   ]
  },
  {
   "cell_type": "code",
   "execution_count": 69,
   "id": "e85fa72d-0207-4650-b626-532a1bd8c91b",
   "metadata": {},
   "outputs": [],
   "source": [
    "station_start_years.append(1937)"
   ]
  },
  {
   "cell_type": "code",
   "execution_count": 70,
   "id": "5acb0972-d44a-4658-af5c-a71e7e51241e",
   "metadata": {},
   "outputs": [],
   "source": [
    "station_start_years.append(2012)"
   ]
  },
  {
   "cell_type": "code",
   "execution_count": 71,
   "id": "40d82bcd-695d-474f-8611-2b9a519584ac",
   "metadata": {},
   "outputs": [],
   "source": [
    "station_start_years.append(1904)"
   ]
  },
  {
   "cell_type": "code",
   "execution_count": 72,
   "id": "7f70d3f6-6f7f-4cec-ae9d-0057fff15fce",
   "metadata": {},
   "outputs": [
    {
     "data": {
      "text/plain": [
       "[2003, 1989, 2016, 2005, 1844, 1937, 2012, 1904]"
      ]
     },
     "execution_count": 72,
     "metadata": {},
     "output_type": "execute_result"
    }
   ],
   "source": [
    "station_start_years"
   ]
  },
  {
   "cell_type": "code",
   "execution_count": 22,
   "id": "ff991706-45a9-40d7-8eba-dd9bbf892da0",
   "metadata": {},
   "outputs": [
    {
     "data": {
      "text/plain": [
       "8"
      ]
     },
     "execution_count": 22,
     "metadata": {},
     "output_type": "execute_result"
    }
   ],
   "source": [
    "len(station_start_years)"
   ]
  },
  {
   "cell_type": "code",
   "execution_count": 23,
   "id": "a24526ce-2208-43b9-a9c2-c3dae6517a5b",
   "metadata": {},
   "outputs": [
    {
     "data": {
      "text/plain": [
       "1904"
      ]
     },
     "execution_count": 23,
     "metadata": {},
     "output_type": "execute_result"
    }
   ],
   "source": [
    "station_start_years[-1]"
   ]
  },
  {
   "cell_type": "code",
   "execution_count": 24,
   "id": "e2bf2665-b521-4f86-8688-7c9819d488f8",
   "metadata": {},
   "outputs": [],
   "source": [
    "station_names.sort()"
   ]
  },
  {
   "cell_type": "code",
   "execution_count": 25,
   "id": "5c31da98-88c2-449d-bc0b-89f66454ac5b",
   "metadata": {},
   "outputs": [
    {
     "data": {
      "text/plain": [
       "['Harmaja',\n",
       " 'Kaisaniemi',\n",
       " 'Kaivopuisto',\n",
       " 'Kumpula',\n",
       " 'Malmi airfield',\n",
       " 'Suomenlinna aaltopoiju',\n",
       " 'Vuosaari harbour',\n",
       " 'lighthouse']"
      ]
     },
     "execution_count": 25,
     "metadata": {},
     "output_type": "execute_result"
    }
   ],
   "source": [
    "station_names"
   ]
  },
  {
   "cell_type": "code",
   "execution_count": 29,
   "id": "5752908a-ec61-44bb-9845-6c88ae28bc71",
   "metadata": {},
   "outputs": [],
   "source": [
    "station_start_years.sort(reverse=True)"
   ]
  },
  {
   "cell_type": "code",
   "execution_count": 30,
   "id": "7f87769c-b338-44ca-af50-77d45ef3f970",
   "metadata": {},
   "outputs": [
    {
     "data": {
      "text/plain": [
       "[2016, 2012, 2005, 2003, 1989, 1937, 1904, 1844]"
      ]
     },
     "execution_count": 30,
     "metadata": {},
     "output_type": "execute_result"
    }
   ],
   "source": [
    "station_start_years"
   ]
  },
  {
   "cell_type": "code",
   "execution_count": 31,
   "id": "f023c2b3-541d-47cb-9719-84555dbd8763",
   "metadata": {},
   "outputs": [
    {
     "data": {
      "text/plain": [
       "'Harmaja'"
      ]
     },
     "execution_count": 31,
     "metadata": {},
     "output_type": "execute_result"
    }
   ],
   "source": [
    "station_names[0]"
   ]
  },
  {
   "cell_type": "code",
   "execution_count": 32,
   "id": "71e9ff2b-c154-46c1-ae5d-66d1656e2f28",
   "metadata": {},
   "outputs": [
    {
     "data": {
      "text/plain": [
       "2016"
      ]
     },
     "execution_count": 32,
     "metadata": {},
     "output_type": "execute_result"
    }
   ],
   "source": [
    "station_start_years[0]"
   ]
  },
  {
   "cell_type": "code",
   "execution_count": 73,
   "id": "7e3b6306-6943-4848-8652-80dfa2f00792",
   "metadata": {},
   "outputs": [
    {
     "data": {
      "text/plain": [
       "<zip at 0x1f2806eb3c0>"
      ]
     },
     "execution_count": 73,
     "metadata": {},
     "output_type": "execute_result"
    }
   ],
   "source": [
    "zip(station_names, station_start_years)"
   ]
  },
  {
   "cell_type": "code",
   "execution_count": 74,
   "id": "ed7f5196-4eb7-4dc1-8215-4a9cedc51e2f",
   "metadata": {},
   "outputs": [
    {
     "name": "stdout",
     "output_type": "stream",
     "text": [
      "[('lighthouse', 2003), ('Harmaja', 1989), ('Suomenlinna aaltopoiju', 2016), ('Kumpula', 2005), ('Kaisaniemi', 1844), ('Malmi airfield', 1937), ('Vuosaari harbour', 2012), ('Kaivopuisto', 1904)]\n"
     ]
    }
   ],
   "source": [
    "print(list(zip(station_names, station_start_years)))"
   ]
  },
  {
   "cell_type": "code",
   "execution_count": 75,
   "id": "3507a940-540b-456a-a112-efd4b22e6301",
   "metadata": {},
   "outputs": [],
   "source": [
    "months = ['January', 'February', 'March', 'April', 'May', 'June', 'July', 'August', 'September', 'October', 'November', 'December']"
   ]
  },
  {
   "cell_type": "code",
   "execution_count": 76,
   "id": "24ebbe33-5ec8-41ec-b00e-3da84154c238",
   "metadata": {},
   "outputs": [],
   "source": [
    "average_temp = [-3.5, -4.5, -1.0, 4.0, 10.0, 15.0, 18.0, 16.0, 11.0, 6.0, 2.0, -1.5]"
   ]
  },
  {
   "cell_type": "code",
   "execution_count": 77,
   "id": "e138b4e8-d44a-4a90-9c18-c7bd2244ca8e",
   "metadata": {},
   "outputs": [
    {
     "data": {
      "text/plain": [
       "12"
      ]
     },
     "execution_count": 77,
     "metadata": {},
     "output_type": "execute_result"
    }
   ],
   "source": [
    "len(months)"
   ]
  },
  {
   "cell_type": "code",
   "execution_count": 78,
   "id": "7824009d-11c4-49c6-809a-d9b2e335fbff",
   "metadata": {},
   "outputs": [
    {
     "data": {
      "text/plain": [
       "12"
      ]
     },
     "execution_count": 78,
     "metadata": {},
     "output_type": "execute_result"
    }
   ],
   "source": [
    "len(average_temp)"
   ]
  },
  {
   "cell_type": "code",
   "execution_count": 79,
   "id": "5f38b5fa-8e69-4485-be0f-21f3094b9252",
   "metadata": {},
   "outputs": [],
   "source": [
    "selected_month_index = months[2]"
   ]
  },
  {
   "cell_type": "code",
   "execution_count": 80,
   "id": "9ac01ae7-cc97-4b5a-afd7-eb4f6a825c85",
   "metadata": {},
   "outputs": [
    {
     "data": {
      "text/plain": [
       "'March'"
      ]
     },
     "execution_count": 80,
     "metadata": {},
     "output_type": "execute_result"
    }
   ],
   "source": [
    "selected_month_index"
   ]
  },
  {
   "cell_type": "code",
   "execution_count": 81,
   "id": "1ad83ddc-69be-44ff-b005-1af03e0b9672",
   "metadata": {},
   "outputs": [],
   "source": [
    "selected_average_temp_index = average_temp[2]"
   ]
  },
  {
   "cell_type": "code",
   "execution_count": 82,
   "id": "7d5ee002-8400-4640-b64f-89e751afc4d6",
   "metadata": {},
   "outputs": [
    {
     "data": {
      "text/plain": [
       "-1.0"
      ]
     },
     "execution_count": 82,
     "metadata": {},
     "output_type": "execute_result"
    }
   ],
   "source": [
    "selected_average_temp_index"
   ]
  },
  {
   "cell_type": "code",
   "execution_count": 88,
   "id": "297eba64-8a3b-4277-9eff-ba0a1a158727",
   "metadata": {},
   "outputs": [],
   "source": [
    "print_statement = f'The average temperature in Helsinki in {selected_month_index} is {selected_average_temp_index}.'"
   ]
  },
  {
   "cell_type": "code",
   "execution_count": 89,
   "id": "c959765e-ece2-4139-9650-6a0eda15511c",
   "metadata": {},
   "outputs": [
    {
     "name": "stdout",
     "output_type": "stream",
     "text": [
      "The average temperature in Helsinki in March is -1.0.\n"
     ]
    }
   ],
   "source": [
    "print(print_statement)"
   ]
  },
  {
   "cell_type": "markdown",
   "id": "e8db17a5-50a2-4168-966b-812d2a2f4055",
   "metadata": {},
   "source": [
    "What I have learned in this exercise:\n",
    "\n",
    "1. I learned how to create lists and do indexing of each element in the list.\n",
    "2. I also learned how to use additional functions available in the Python lists, which were the zip and sort functions, among others. "
   ]
  },
  {
   "cell_type": "code",
   "execution_count": null,
   "id": "d46ec398-53d5-473b-8971-074bb471c9e3",
   "metadata": {},
   "outputs": [],
   "source": []
  }
 ],
 "metadata": {
  "kernelspec": {
   "display_name": "Python 3 (ipykernel)",
   "language": "python",
   "name": "python3"
  },
  "language_info": {
   "codemirror_mode": {
    "name": "ipython",
    "version": 3
   },
   "file_extension": ".py",
   "mimetype": "text/x-python",
   "name": "python",
   "nbconvert_exporter": "python",
   "pygments_lexer": "ipython3",
   "version": "3.12.4"
  }
 },
 "nbformat": 4,
 "nbformat_minor": 5
}

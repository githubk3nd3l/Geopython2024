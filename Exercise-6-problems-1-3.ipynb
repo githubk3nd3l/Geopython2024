{
 "cells": [
  {
   "cell_type": "markdown",
   "metadata": {
    "deletable": false,
    "editable": false,
    "nbgrader": {
     "cell_type": "markdown",
     "checksum": "460ff4053300ca00b230a3b787dfafcf",
     "grade": false,
     "grade_id": "cell-f2d00c67ecd9e7dc",
     "locked": true,
     "schema_version": 3,
     "solution": false
    }
   },
   "source": [
    "# Exercise 6: Weather anomalies (10 points)\n",
    "\n",
    "The aim of this exercise is to analyze historical weather data.\n",
    "- In Problem 1 you read in a tricky data file and explore it's contents.\n",
    "- In problem 2, you will convert and aggregate the data from daily temperatures in Fahrenheit, to monthly average temperatures in Celsius.\n",
    "- In Problem 3, you will finally analyze weather anomalies by comparing monthly average temperatures to a long-term average.\n",
    "\n",
    "### Tips for completing this exercise\n",
    "\n",
    "- Use **exactly** the same variable names as in the instructions because your answers will be automatically graded, and the tests that grade your answers rely on following the same formatting or variable naming as in the instructions.\n",
    "- **Please do not**:\n",
    "\n",
    "    - **Change the file names**. Do all of your editing in the provided `Exercise-6-problems-1-3.ipynb` file (this file).\n",
    "    - **Copy/paste cells in this notebook**. We use an automated grading system that will fail if there are copies of code cells.\n",
    "    - **Change the existing cell types**. You can add cells, but changing the cell types for existing cells (from code to markdown, for example) will also cause the automated grader to fail."
   ]
  },
  {
   "cell_type": "markdown",
   "metadata": {
    "deletable": false,
    "editable": false,
    "nbgrader": {
     "cell_type": "markdown",
     "checksum": "25890bd05c9444afbede5f3a4d5b57ff",
     "grade": false,
     "grade_id": "cell-b3c47ecccdfd3339",
     "locked": true,
     "schema_version": 3,
     "solution": false,
     "task": false
    },
    "tags": []
   },
   "source": [
    "## AI tool usage agreement\n",
    "\n",
    "**Enter your name (and that of your partner) in the cell below** to confirm that you have followed the [course guidelines on the use of AI tools](https://geo-python-site.readthedocs.io/en/latest/course-info/ai-tools.html) and understand that misuse of AI tools is considered cheating."
   ]
  },
  {
   "cell_type": "markdown",
   "metadata": {
    "deletable": false,
    "nbgrader": {
     "cell_type": "markdown",
     "checksum": "00e876c653a6a3f252d677b5068561ca",
     "grade": true,
     "grade_id": "E6-AI-LLM_statement",
     "locked": false,
     "points": 0,
     "schema_version": 3,
     "solution": true,
     "task": false
    },
    "tags": []
   },
   "source": [
    "YOUR ANSWER HERE"
   ]
  },
  {
   "cell_type": "markdown",
   "metadata": {
    "deletable": false,
    "editable": false,
    "nbgrader": {
     "cell_type": "markdown",
     "checksum": "7864f044263f203117c0b292a4c1d2be",
     "grade": false,
     "grade_id": "cell-ee8959b3d6e4f7f8",
     "locked": true,
     "schema_version": 3,
     "solution": false,
     "task": false
    },
    "tags": []
   },
   "source": [
    "## Problem 1 - Reading in a tricky data file (2 points)\n",
    "\n",
    "You first task for this exercise is to read in the data file [data/1091402.txt](data/1091402.txt) to a variable called `data`. Pay attention to the input data structure and no data values.\n",
    "\n",
    "### Scores for this problem\n",
    "\n",
    "**Your score on this problem will be based on following criteria:**\n",
    "\n",
    "- Reading the data into a variable called `data` using pandas\n",
    "    - Skipping the second row of the datafile that contains `----------` characters that don't belong to the data\n",
    "    - Convert the no-data values (`-9999`) into `NaN` \n",
    "- Calculating basic statistics from the data\n",
    "- Including comments that explain what most lines in the code do"
   ]
  },
  {
   "cell_type": "markdown",
   "metadata": {
    "deletable": false,
    "editable": false,
    "nbgrader": {
     "cell_type": "markdown",
     "checksum": "3d3d5961ecc23756da67c59b0053a8e9",
     "grade": false,
     "grade_id": "cell-52cc9f4650eada57",
     "locked": true,
     "schema_version": 3,
     "solution": false
    }
   },
   "source": [
    "### Part 1 (1 point)\n",
    "\n",
    "You should start by loading the data file.\n",
    "\n",
    "- Read the data file into variable the variable `data`\n",
    "    - Skip the second row\n",
    "    - Convert the no-data values (`-9999`) into `NaN`"
   ]
  },
  {
   "cell_type": "code",
   "execution_count": null,
   "metadata": {
    "deletable": false,
    "nbgrader": {
     "cell_type": "code",
     "checksum": "81d2861b4a08146fdb3993c78a858168",
     "grade": false,
     "grade_id": "problem_1_ag_p1_read_file",
     "locked": false,
     "schema_version": 3,
     "solution": true
    }
   },
   "outputs": [],
   "source": [
    "data = None\n",
    "\n",
    "# YOUR CODE HERE\n",
    "raise NotImplementedError()"
   ]
  },
  {
   "cell_type": "code",
   "execution_count": 2,
   "metadata": {},
   "outputs": [],
   "source": [
    "import pandas as pd"
   ]
  },
  {
   "cell_type": "code",
   "execution_count": 109,
   "metadata": {},
   "outputs": [
    {
     "name": "stderr",
     "output_type": "stream",
     "text": [
      "C:\\Users\\neljo\\AppData\\Local\\Temp\\ipykernel_22608\\3287195097.py:1: FutureWarning: The 'delim_whitespace' keyword in pd.read_csv is deprecated and will be removed in a future version. Use ``sep='\\s+'`` instead\n",
      "  data = pd.read_csv(\"1091402.txt\", delim_whitespace=True, skiprows=[1], na_values=-9999)\n"
     ]
    }
   ],
   "source": [
    "data = pd.read_csv(\"1091402.txt\", delim_whitespace=True, skiprows=[1], na_values=-9999)"
   ]
  },
  {
   "cell_type": "code",
   "execution_count": 110,
   "metadata": {
    "deletable": false,
    "editable": false,
    "nbgrader": {
     "cell_type": "code",
     "checksum": "4f2d002e5558bd4102cb11bd7a92436a",
     "grade": true,
     "grade_id": "problem_1_ag_p1_read_file_tests1",
     "locked": true,
     "points": 0.5,
     "schema_version": 3,
     "solution": false
    }
   },
   "outputs": [
    {
     "data": {
      "text/html": [
       "<div>\n",
       "<style scoped>\n",
       "    .dataframe tbody tr th:only-of-type {\n",
       "        vertical-align: middle;\n",
       "    }\n",
       "\n",
       "    .dataframe tbody tr th {\n",
       "        vertical-align: top;\n",
       "    }\n",
       "\n",
       "    .dataframe thead th {\n",
       "        text-align: right;\n",
       "    }\n",
       "</style>\n",
       "<table border=\"1\" class=\"dataframe\">\n",
       "  <thead>\n",
       "    <tr style=\"text-align: right;\">\n",
       "      <th></th>\n",
       "      <th>STATION</th>\n",
       "      <th>ELEVATION</th>\n",
       "      <th>LATITUDE</th>\n",
       "      <th>LONGITUDE</th>\n",
       "      <th>DATE</th>\n",
       "      <th>PRCP</th>\n",
       "      <th>TAVG</th>\n",
       "      <th>TMAX</th>\n",
       "      <th>TMIN</th>\n",
       "    </tr>\n",
       "  </thead>\n",
       "  <tbody>\n",
       "    <tr>\n",
       "      <th>0</th>\n",
       "      <td>GHCND:FIE00142080</td>\n",
       "      <td>51</td>\n",
       "      <td>60.3269</td>\n",
       "      <td>24.9603</td>\n",
       "      <td>19520101</td>\n",
       "      <td>0.31</td>\n",
       "      <td>37.0</td>\n",
       "      <td>39.0</td>\n",
       "      <td>34.0</td>\n",
       "    </tr>\n",
       "    <tr>\n",
       "      <th>1</th>\n",
       "      <td>GHCND:FIE00142080</td>\n",
       "      <td>51</td>\n",
       "      <td>60.3269</td>\n",
       "      <td>24.9603</td>\n",
       "      <td>19520102</td>\n",
       "      <td>NaN</td>\n",
       "      <td>35.0</td>\n",
       "      <td>37.0</td>\n",
       "      <td>34.0</td>\n",
       "    </tr>\n",
       "    <tr>\n",
       "      <th>2</th>\n",
       "      <td>GHCND:FIE00142080</td>\n",
       "      <td>51</td>\n",
       "      <td>60.3269</td>\n",
       "      <td>24.9603</td>\n",
       "      <td>19520103</td>\n",
       "      <td>0.14</td>\n",
       "      <td>33.0</td>\n",
       "      <td>36.0</td>\n",
       "      <td>NaN</td>\n",
       "    </tr>\n",
       "    <tr>\n",
       "      <th>3</th>\n",
       "      <td>GHCND:FIE00142080</td>\n",
       "      <td>51</td>\n",
       "      <td>60.3269</td>\n",
       "      <td>24.9603</td>\n",
       "      <td>19520104</td>\n",
       "      <td>0.05</td>\n",
       "      <td>29.0</td>\n",
       "      <td>30.0</td>\n",
       "      <td>25.0</td>\n",
       "    </tr>\n",
       "    <tr>\n",
       "      <th>4</th>\n",
       "      <td>GHCND:FIE00142080</td>\n",
       "      <td>51</td>\n",
       "      <td>60.3269</td>\n",
       "      <td>24.9603</td>\n",
       "      <td>19520105</td>\n",
       "      <td>0.06</td>\n",
       "      <td>27.0</td>\n",
       "      <td>30.0</td>\n",
       "      <td>25.0</td>\n",
       "    </tr>\n",
       "  </tbody>\n",
       "</table>\n",
       "</div>"
      ],
      "text/plain": [
       "             STATION  ELEVATION  LATITUDE  LONGITUDE      DATE  PRCP  TAVG  \\\n",
       "0  GHCND:FIE00142080         51   60.3269    24.9603  19520101  0.31  37.0   \n",
       "1  GHCND:FIE00142080         51   60.3269    24.9603  19520102   NaN  35.0   \n",
       "2  GHCND:FIE00142080         51   60.3269    24.9603  19520103  0.14  33.0   \n",
       "3  GHCND:FIE00142080         51   60.3269    24.9603  19520104  0.05  29.0   \n",
       "4  GHCND:FIE00142080         51   60.3269    24.9603  19520105  0.06  27.0   \n",
       "\n",
       "   TMAX  TMIN  \n",
       "0  39.0  34.0  \n",
       "1  37.0  34.0  \n",
       "2  36.0   NaN  \n",
       "3  30.0  25.0  \n",
       "4  30.0  25.0  "
      ]
     },
     "execution_count": 110,
     "metadata": {},
     "output_type": "execute_result"
    }
   ],
   "source": [
    "# Check that the dataframe looks ok:\n",
    "data.head()"
   ]
  },
  {
   "cell_type": "code",
   "execution_count": 111,
   "metadata": {
    "deletable": false,
    "editable": false,
    "nbgrader": {
     "cell_type": "code",
     "checksum": "4085783ee6c0b8ce20df6135dbd3918a",
     "grade": true,
     "grade_id": "problem_1_ag_p1_read_file_tests2",
     "locked": true,
     "points": 0.5,
     "schema_version": 3,
     "solution": false
    }
   },
   "outputs": [
    {
     "data": {
      "text/html": [
       "<div>\n",
       "<style scoped>\n",
       "    .dataframe tbody tr th:only-of-type {\n",
       "        vertical-align: middle;\n",
       "    }\n",
       "\n",
       "    .dataframe tbody tr th {\n",
       "        vertical-align: top;\n",
       "    }\n",
       "\n",
       "    .dataframe thead th {\n",
       "        text-align: right;\n",
       "    }\n",
       "</style>\n",
       "<table border=\"1\" class=\"dataframe\">\n",
       "  <thead>\n",
       "    <tr style=\"text-align: right;\">\n",
       "      <th></th>\n",
       "      <th>STATION</th>\n",
       "      <th>ELEVATION</th>\n",
       "      <th>LATITUDE</th>\n",
       "      <th>LONGITUDE</th>\n",
       "      <th>DATE</th>\n",
       "      <th>PRCP</th>\n",
       "      <th>TAVG</th>\n",
       "      <th>TMAX</th>\n",
       "      <th>TMIN</th>\n",
       "    </tr>\n",
       "  </thead>\n",
       "  <tbody>\n",
       "    <tr>\n",
       "      <th>23711</th>\n",
       "      <td>GHCND:FIE00142080</td>\n",
       "      <td>51</td>\n",
       "      <td>60.3269</td>\n",
       "      <td>24.9603</td>\n",
       "      <td>20170930</td>\n",
       "      <td>NaN</td>\n",
       "      <td>47.0</td>\n",
       "      <td>49.0</td>\n",
       "      <td>44.0</td>\n",
       "    </tr>\n",
       "    <tr>\n",
       "      <th>23712</th>\n",
       "      <td>GHCND:FIE00142080</td>\n",
       "      <td>51</td>\n",
       "      <td>60.3269</td>\n",
       "      <td>24.9603</td>\n",
       "      <td>20171001</td>\n",
       "      <td>0.04</td>\n",
       "      <td>47.0</td>\n",
       "      <td>48.0</td>\n",
       "      <td>45.0</td>\n",
       "    </tr>\n",
       "    <tr>\n",
       "      <th>23713</th>\n",
       "      <td>GHCND:FIE00142080</td>\n",
       "      <td>51</td>\n",
       "      <td>60.3269</td>\n",
       "      <td>24.9603</td>\n",
       "      <td>20171002</td>\n",
       "      <td>NaN</td>\n",
       "      <td>47.0</td>\n",
       "      <td>49.0</td>\n",
       "      <td>46.0</td>\n",
       "    </tr>\n",
       "    <tr>\n",
       "      <th>23714</th>\n",
       "      <td>GHCND:FIE00142080</td>\n",
       "      <td>51</td>\n",
       "      <td>60.3269</td>\n",
       "      <td>24.9603</td>\n",
       "      <td>20171003</td>\n",
       "      <td>0.94</td>\n",
       "      <td>47.0</td>\n",
       "      <td>NaN</td>\n",
       "      <td>44.0</td>\n",
       "    </tr>\n",
       "    <tr>\n",
       "      <th>23715</th>\n",
       "      <td>GHCND:FIE00142080</td>\n",
       "      <td>51</td>\n",
       "      <td>60.3269</td>\n",
       "      <td>24.9603</td>\n",
       "      <td>20171004</td>\n",
       "      <td>0.51</td>\n",
       "      <td>52.0</td>\n",
       "      <td>56.0</td>\n",
       "      <td>NaN</td>\n",
       "    </tr>\n",
       "  </tbody>\n",
       "</table>\n",
       "</div>"
      ],
      "text/plain": [
       "                 STATION  ELEVATION  LATITUDE  LONGITUDE      DATE  PRCP  \\\n",
       "23711  GHCND:FIE00142080         51   60.3269    24.9603  20170930   NaN   \n",
       "23712  GHCND:FIE00142080         51   60.3269    24.9603  20171001  0.04   \n",
       "23713  GHCND:FIE00142080         51   60.3269    24.9603  20171002   NaN   \n",
       "23714  GHCND:FIE00142080         51   60.3269    24.9603  20171003  0.94   \n",
       "23715  GHCND:FIE00142080         51   60.3269    24.9603  20171004  0.51   \n",
       "\n",
       "       TAVG  TMAX  TMIN  \n",
       "23711  47.0  49.0  44.0  \n",
       "23712  47.0  48.0  45.0  \n",
       "23713  47.0  49.0  46.0  \n",
       "23714  47.0   NaN  44.0  \n",
       "23715  52.0  56.0   NaN  "
      ]
     },
     "execution_count": 111,
     "metadata": {},
     "output_type": "execute_result"
    }
   ],
   "source": [
    "# Check the last rows of the data (there should be some NaN values)\n",
    "data.tail()"
   ]
  },
  {
   "cell_type": "markdown",
   "metadata": {
    "deletable": false,
    "editable": false,
    "nbgrader": {
     "cell_type": "markdown",
     "checksum": "22383202dca202e2ea6a9c2df0984a96",
     "grade": false,
     "grade_id": "cell-7f848d5f8acf3a0f",
     "locked": true,
     "schema_version": 3,
     "solution": false
    }
   },
   "source": [
    "### Part 2 (1 point)\n",
    "\n",
    "In this section, you will calculate some basic statistics of the input data.\n",
    "\n",
    "- Calculate how many no-data (NaN) values there are in the `TAVG` column\n",
    "    - Assign your answer to a variable called `tavg_nodata_count`"
   ]
  },
  {
   "cell_type": "code",
   "execution_count": null,
   "metadata": {
    "deletable": false,
    "nbgrader": {
     "cell_type": "code",
     "checksum": "5dc920edd67206c7cd72e1e908aa0ecb",
     "grade": false,
     "grade_id": "problem_1_ag_p2_tavg_nodata_count",
     "locked": false,
     "schema_version": 3,
     "solution": true
    }
   },
   "outputs": [],
   "source": [
    "tavg_nodata_count = None\n",
    "\n",
    "# YOUR CODE HERE\n",
    "raise NotImplementedError()"
   ]
  },
  {
   "cell_type": "code",
   "execution_count": 31,
   "metadata": {},
   "outputs": [],
   "source": [
    "tavg_nodata_count = data[\"TAVG\"].isnull().sum()"
   ]
  },
  {
   "cell_type": "code",
   "execution_count": 32,
   "metadata": {
    "deletable": false,
    "editable": false,
    "nbgrader": {
     "cell_type": "code",
     "checksum": "3bf7578df074c2a60538c0e1ecb9952a",
     "grade": true,
     "grade_id": "problem_1_ag_p2_tavg_nodata_count_test1",
     "locked": true,
     "points": 0.2,
     "schema_version": 3,
     "solution": false
    }
   },
   "outputs": [
    {
     "name": "stdout",
     "output_type": "stream",
     "text": [
      "Number of no-data values in column \"TAVG\": 3308\n"
     ]
    }
   ],
   "source": [
    "# Print out the solution:\n",
    "print(f'Number of no-data values in column \"TAVG\": {tavg_nodata_count}')"
   ]
  },
  {
   "cell_type": "markdown",
   "metadata": {
    "deletable": false,
    "editable": false,
    "nbgrader": {
     "cell_type": "markdown",
     "checksum": "55529fa822f09b326b39216eedf07783",
     "grade": false,
     "grade_id": "cell-600c96096b421522",
     "locked": true,
     "schema_version": 3,
     "solution": false
    }
   },
   "source": [
    "- Calculate how many no-data (NaN) values there are for the `TMIN` column\n",
    "    - Assign your answer into a variable called `tmin_nodata_count`"
   ]
  },
  {
   "cell_type": "code",
   "execution_count": null,
   "metadata": {
    "deletable": false,
    "nbgrader": {
     "cell_type": "code",
     "checksum": "05106868364a3bae579a286fb230149c",
     "grade": false,
     "grade_id": "problem_1_ag_p2_tmin_nodata_count",
     "locked": false,
     "schema_version": 3,
     "solution": true
    }
   },
   "outputs": [],
   "source": [
    "tmin_nodata_count = None\n",
    "\n",
    "# YOUR CODE HERE\n",
    "raise NotImplementedError()"
   ]
  },
  {
   "cell_type": "code",
   "execution_count": 33,
   "metadata": {},
   "outputs": [],
   "source": [
    "tmin_nodata_count = data[\"TMIN\"].isnull().sum()"
   ]
  },
  {
   "cell_type": "code",
   "execution_count": 34,
   "metadata": {
    "deletable": false,
    "editable": false,
    "nbgrader": {
     "cell_type": "code",
     "checksum": "30c08818ec1b25c5607b75c100300ad2",
     "grade": true,
     "grade_id": "problem_1_tmin_nodata_count_test1",
     "locked": true,
     "points": 0.2,
     "schema_version": 3,
     "solution": false
    }
   },
   "outputs": [
    {
     "name": "stdout",
     "output_type": "stream",
     "text": [
      "Number of no-data values in column \"TMIN\": 365\n"
     ]
    }
   ],
   "source": [
    "# Print out the solution:\n",
    "print(f'Number of no-data values in column \"TMIN\": {tmin_nodata_count}')"
   ]
  },
  {
   "cell_type": "markdown",
   "metadata": {
    "deletable": false,
    "editable": false,
    "nbgrader": {
     "cell_type": "markdown",
     "checksum": "908ddb381122ee0dcfaef62e3d3b8173",
     "grade": false,
     "grade_id": "cell-25998b4f0d14e8f0",
     "locked": true,
     "schema_version": 3,
     "solution": false
    }
   },
   "source": [
    "- Calculate the total number of days covered by this data file\n",
    "    - Assign your answer into a variable called `day_count`"
   ]
  },
  {
   "cell_type": "code",
   "execution_count": null,
   "metadata": {
    "deletable": false,
    "nbgrader": {
     "cell_type": "code",
     "checksum": "e189e68edd84e8970954ca097e5fe104",
     "grade": false,
     "grade_id": "problem_1_ag_p2_day_count",
     "locked": false,
     "schema_version": 3,
     "solution": true
    }
   },
   "outputs": [],
   "source": [
    "day_count = None\n",
    "\n",
    "# YOUR CODE HERE\n",
    "raise NotImplementedError()"
   ]
  },
  {
   "cell_type": "code",
   "execution_count": 35,
   "metadata": {},
   "outputs": [],
   "source": [
    "day_count = data[\"DATE\"].count()"
   ]
  },
  {
   "cell_type": "code",
   "execution_count": 36,
   "metadata": {
    "deletable": false,
    "editable": false,
    "nbgrader": {
     "cell_type": "code",
     "checksum": "f1c8e6f147674b12605b43b9a47d55b6",
     "grade": true,
     "grade_id": "problem_1_ag_p2_day_count_test1",
     "locked": true,
     "points": 0.1,
     "schema_version": 3,
     "solution": false
    }
   },
   "outputs": [
    {
     "name": "stdout",
     "output_type": "stream",
     "text": [
      "Number of days: 23716\n"
     ]
    }
   ],
   "source": [
    "# Print out the solution:\n",
    "print(f'Number of days: {day_count}')"
   ]
  },
  {
   "cell_type": "markdown",
   "metadata": {
    "deletable": false,
    "editable": false,
    "nbgrader": {
     "cell_type": "markdown",
     "checksum": "9cad6f0caab2312ddba764c48fe512cf",
     "grade": false,
     "grade_id": "cell-424dcdef3dde1b89",
     "locked": true,
     "schema_version": 3,
     "solution": false
    }
   },
   "source": [
    "- Find the date of the oldest (first) observation\n",
    "    - Assign your answer into a variable called `first_obs`"
   ]
  },
  {
   "cell_type": "code",
   "execution_count": null,
   "metadata": {
    "deletable": false,
    "nbgrader": {
     "cell_type": "code",
     "checksum": "4ba7a15891f54d125bb9d0bbcd0611f6",
     "grade": false,
     "grade_id": "problem_1_ag_p2_first_observation",
     "locked": false,
     "schema_version": 3,
     "solution": true
    }
   },
   "outputs": [],
   "source": [
    "first_obs = None\n",
    "\n",
    "# YOUR CODE HERE\n",
    "raise NotImplementedError()"
   ]
  },
  {
   "cell_type": "code",
   "execution_count": 42,
   "metadata": {},
   "outputs": [],
   "source": [
    "first_obs = data[\"DATE\"].sort_values().loc[0]"
   ]
  },
  {
   "cell_type": "code",
   "execution_count": 43,
   "metadata": {
    "deletable": false,
    "editable": false,
    "nbgrader": {
     "cell_type": "code",
     "checksum": "f566ede9d825ed391af49235124382d2",
     "grade": true,
     "grade_id": "problem_1_ag_p2_first_observation_test1",
     "locked": true,
     "points": 0.1,
     "schema_version": 3,
     "solution": false
    }
   },
   "outputs": [
    {
     "name": "stdout",
     "output_type": "stream",
     "text": [
      "Date of the first observation: 19520101\n"
     ]
    }
   ],
   "source": [
    "# Print out the solution:\n",
    "print(f'Date of the first observation: {first_obs}')"
   ]
  },
  {
   "cell_type": "markdown",
   "metadata": {
    "deletable": false,
    "editable": false,
    "nbgrader": {
     "cell_type": "markdown",
     "checksum": "79af6f07754be8b7f201fef854f0c911",
     "grade": false,
     "grade_id": "cell-1a9a82e0f837ac34",
     "locked": true,
     "schema_version": 3,
     "solution": false
    }
   },
   "source": [
    "- Find the date of the most recent (last) observation\n",
    "    - Assign your answer into a variable called `last_obs`"
   ]
  },
  {
   "cell_type": "code",
   "execution_count": null,
   "metadata": {
    "deletable": false,
    "nbgrader": {
     "cell_type": "code",
     "checksum": "3fc2457aff864a11b9aa5ad82e9165e2",
     "grade": false,
     "grade_id": "problem_1_ag_p2_last_observation",
     "locked": false,
     "schema_version": 3,
     "solution": true
    }
   },
   "outputs": [],
   "source": [
    "last_obs = None\n",
    "\n",
    "# YOUR CODE HERE\n",
    "raise NotImplementedError()"
   ]
  },
  {
   "cell_type": "code",
   "execution_count": 51,
   "metadata": {},
   "outputs": [],
   "source": [
    "last_obs = data[\"DATE\"].sort_values(ascending=False).loc[23715]"
   ]
  },
  {
   "cell_type": "code",
   "execution_count": 52,
   "metadata": {
    "deletable": false,
    "editable": false,
    "nbgrader": {
     "cell_type": "code",
     "checksum": "5e4371829dbfb5eff482de60ee976881",
     "grade": true,
     "grade_id": "problem_1_ag_p2_last_observation_test1",
     "locked": true,
     "points": 0.1,
     "schema_version": 3,
     "solution": false
    }
   },
   "outputs": [
    {
     "name": "stdout",
     "output_type": "stream",
     "text": [
      "Date of the last observation: 20171004\n"
     ]
    }
   ],
   "source": [
    "# Print out the solution:\n",
    "print(f'Date of the last observation: {last_obs}')\n"
   ]
  },
  {
   "cell_type": "markdown",
   "metadata": {
    "deletable": false,
    "editable": false,
    "nbgrader": {
     "cell_type": "markdown",
     "checksum": "131ae54b07359d9ce8453074f0106fc2",
     "grade": false,
     "grade_id": "cell-3fbd149c1e58a16c",
     "locked": true,
     "schema_version": 3,
     "solution": false
    }
   },
   "source": [
    "- Find the average temperature for the whole data file (all observtions) from column `TAVG`\n",
    "    - Assign your answer into a variable called `avg_temp`"
   ]
  },
  {
   "cell_type": "code",
   "execution_count": null,
   "metadata": {
    "deletable": false,
    "nbgrader": {
     "cell_type": "code",
     "checksum": "298d692248344926a86003d5c8abfd5b",
     "grade": false,
     "grade_id": "problem_1_ag_p2_avg_temp",
     "locked": false,
     "schema_version": 3,
     "solution": true
    }
   },
   "outputs": [],
   "source": [
    "avg_temp = None\n",
    "\n",
    "# YOUR CODE HERE\n",
    "raise NotImplementedError()"
   ]
  },
  {
   "cell_type": "code",
   "execution_count": 53,
   "metadata": {},
   "outputs": [],
   "source": [
    "avg_temp = data[\"TAVG\"].mean()"
   ]
  },
  {
   "cell_type": "code",
   "execution_count": 54,
   "metadata": {
    "deletable": false,
    "editable": false,
    "nbgrader": {
     "cell_type": "code",
     "checksum": "40b513b4e924c76f528544ec8a94e645",
     "grade": true,
     "grade_id": "problem_1_ag_p2_avg_temp_test1",
     "locked": true,
     "points": 0.1,
     "schema_version": 3,
     "solution": false
    }
   },
   "outputs": [
    {
     "name": "stdout",
     "output_type": "stream",
     "text": [
      "Average temperature (F) for the whole dataset: 41.32\n"
     ]
    }
   ],
   "source": [
    "# Print out the solution:\n",
    "print(f'Average temperature (F) for the whole dataset: {round(avg_temp, 2)}')"
   ]
  },
  {
   "cell_type": "markdown",
   "metadata": {
    "deletable": false,
    "editable": false,
    "nbgrader": {
     "cell_type": "markdown",
     "checksum": "89a71e9b92393211999ef183d6cc39b2",
     "grade": false,
     "grade_id": "cell-784617d6edc656a6",
     "locked": true,
     "schema_version": 3,
     "solution": false
    }
   },
   "source": [
    "- Find the average `TMAX` temperature over the [Summer of '69](https://www.youtube.com/watch?v=9f06QZCVUHg) (months May, June, July, and August of the year 1969)\n",
    "    - Assign your answer into a variable called `avg_temp_1969`"
   ]
  },
  {
   "cell_type": "code",
   "execution_count": null,
   "metadata": {
    "deletable": false,
    "nbgrader": {
     "cell_type": "code",
     "checksum": "137e6d29791dbd47e38adf54144ee8ef",
     "grade": false,
     "grade_id": "problem_1_ag_p2_avg_temp_69",
     "locked": false,
     "schema_version": 3,
     "solution": true
    }
   },
   "outputs": [],
   "source": [
    "avg_temp_1969 = None\n",
    "\n",
    "# YOUR CODE HERE\n",
    "raise NotImplementedError()"
   ]
  },
  {
   "cell_type": "code",
   "execution_count": 59,
   "metadata": {},
   "outputs": [
    {
     "data": {
      "text/plain": [
       "pandas.core.series.Series"
      ]
     },
     "execution_count": 59,
     "metadata": {},
     "output_type": "execute_result"
    }
   ],
   "source": [
    "type(data[\"DATE\"])"
   ]
  },
  {
   "cell_type": "code",
   "execution_count": 65,
   "metadata": {},
   "outputs": [],
   "source": [
    "avg_temp_1969 = data[\"TMAX\"].loc[(data[\"DATE\"] >= 19690501) & (data[\"DATE\"] <= 19690831)].mean()"
   ]
  },
  {
   "cell_type": "code",
   "execution_count": 66,
   "metadata": {
    "deletable": false,
    "editable": false,
    "nbgrader": {
     "cell_type": "code",
     "checksum": "c9b440fa504e678df9aa067b55315a73",
     "grade": true,
     "grade_id": "problem_1_ag_p2_avg_temp_69_test1",
     "locked": true,
     "points": 0.2,
     "schema_version": 3,
     "solution": false
    }
   },
   "outputs": [
    {
     "name": "stdout",
     "output_type": "stream",
     "text": [
      "Average temperature (F) for the Summer of '69: 67.82\n"
     ]
    }
   ],
   "source": [
    "# This test print should print a number\n",
    "print(f\"Average temperature (F) for the Summer of '69: {round(avg_temp_1969, 2)}\")\n"
   ]
  },
  {
   "cell_type": "markdown",
   "metadata": {
    "deletable": false,
    "editable": false,
    "nbgrader": {
     "cell_type": "markdown",
     "checksum": "c706ce271824d54532a09dcf5c0e7621",
     "grade": false,
     "grade_id": "cell-beeb38c1b8d3eb13",
     "locked": true,
     "schema_version": 3,
     "solution": false
    }
   },
   "source": [
    "## Problem 2 - Calculating monthly average temperatures (3 points)\n",
    "\n",
    "For this problem your goal is to calculate monthly average temperatures in degrees Celsius from the daily Fahrenheit values we have in the data file. You can continue working with the same DataFrame that you used in Problem 1.\n",
    "\n",
    "### Scores for this problem\n",
    "\n",
    "**Your score on this problem will be based on following criteria:**\n",
    "\n",
    "- Calculating the monthly average temperatures in degrees Celsius for the each month in the dataset (i.e., for each month of each year)\n",
    "    - You should store the monthly average temperatures in a new Pandas DataFrame called `monthly_data`\n",
    "    - `monthly_data` should contain a new column called `temp_celsius` the monthly average temperatures in Celsius\n",
    "    - Convert the `TAVG` values in Fahrenheit into Celsius and store the output in the `temp_celsius`\n",
    "- Including comments that explain what most lines in the code do\n",
    "\n",
    "**Hint**: *You can start by creating a new column with a label for each year and month, and then continue grouping the data based on this information.*"
   ]
  },
  {
   "cell_type": "code",
   "execution_count": null,
   "metadata": {
    "deletable": false,
    "nbgrader": {
     "cell_type": "code",
     "checksum": "62d37e8db69c6a6a3bd72e22f79426fe",
     "grade": false,
     "grade_id": "problem_2_ag_p1_monthly_averages",
     "locked": false,
     "schema_version": 3,
     "solution": true
    }
   },
   "outputs": [],
   "source": [
    "monthly_data = None\n",
    "\n",
    "# YOUR CODE HERE\n",
    "raise NotImplementedError()"
   ]
  },
  {
   "cell_type": "code",
   "execution_count": 112,
   "metadata": {},
   "outputs": [],
   "source": [
    "monthly_data = pd.DataFrame(data)\n",
    "\n",
    "# monthly_data[\"DATE\"] = pd.to_datetime(monthly_data[\"DATE\"])\n",
    "\n",
    "# monthly_data[\"YEAR\"] = monthly_data[\"DATE\"].dt.year\n",
    "# monthly_data[\"MONTH\"] = monthly_data[\"DATE\"].dt.month"
   ]
  },
  {
   "cell_type": "code",
   "execution_count": 113,
   "metadata": {},
   "outputs": [
    {
     "data": {
      "text/html": [
       "<div>\n",
       "<style scoped>\n",
       "    .dataframe tbody tr th:only-of-type {\n",
       "        vertical-align: middle;\n",
       "    }\n",
       "\n",
       "    .dataframe tbody tr th {\n",
       "        vertical-align: top;\n",
       "    }\n",
       "\n",
       "    .dataframe thead th {\n",
       "        text-align: right;\n",
       "    }\n",
       "</style>\n",
       "<table border=\"1\" class=\"dataframe\">\n",
       "  <thead>\n",
       "    <tr style=\"text-align: right;\">\n",
       "      <th></th>\n",
       "      <th>STATION</th>\n",
       "      <th>ELEVATION</th>\n",
       "      <th>LATITUDE</th>\n",
       "      <th>LONGITUDE</th>\n",
       "      <th>DATE</th>\n",
       "      <th>PRCP</th>\n",
       "      <th>TAVG</th>\n",
       "      <th>TMAX</th>\n",
       "      <th>TMIN</th>\n",
       "    </tr>\n",
       "  </thead>\n",
       "  <tbody>\n",
       "    <tr>\n",
       "      <th>0</th>\n",
       "      <td>GHCND:FIE00142080</td>\n",
       "      <td>51</td>\n",
       "      <td>60.3269</td>\n",
       "      <td>24.9603</td>\n",
       "      <td>19520101</td>\n",
       "      <td>0.31</td>\n",
       "      <td>37.0</td>\n",
       "      <td>39.0</td>\n",
       "      <td>34.0</td>\n",
       "    </tr>\n",
       "    <tr>\n",
       "      <th>1</th>\n",
       "      <td>GHCND:FIE00142080</td>\n",
       "      <td>51</td>\n",
       "      <td>60.3269</td>\n",
       "      <td>24.9603</td>\n",
       "      <td>19520102</td>\n",
       "      <td>NaN</td>\n",
       "      <td>35.0</td>\n",
       "      <td>37.0</td>\n",
       "      <td>34.0</td>\n",
       "    </tr>\n",
       "    <tr>\n",
       "      <th>2</th>\n",
       "      <td>GHCND:FIE00142080</td>\n",
       "      <td>51</td>\n",
       "      <td>60.3269</td>\n",
       "      <td>24.9603</td>\n",
       "      <td>19520103</td>\n",
       "      <td>0.14</td>\n",
       "      <td>33.0</td>\n",
       "      <td>36.0</td>\n",
       "      <td>NaN</td>\n",
       "    </tr>\n",
       "    <tr>\n",
       "      <th>3</th>\n",
       "      <td>GHCND:FIE00142080</td>\n",
       "      <td>51</td>\n",
       "      <td>60.3269</td>\n",
       "      <td>24.9603</td>\n",
       "      <td>19520104</td>\n",
       "      <td>0.05</td>\n",
       "      <td>29.0</td>\n",
       "      <td>30.0</td>\n",
       "      <td>25.0</td>\n",
       "    </tr>\n",
       "    <tr>\n",
       "      <th>4</th>\n",
       "      <td>GHCND:FIE00142080</td>\n",
       "      <td>51</td>\n",
       "      <td>60.3269</td>\n",
       "      <td>24.9603</td>\n",
       "      <td>19520105</td>\n",
       "      <td>0.06</td>\n",
       "      <td>27.0</td>\n",
       "      <td>30.0</td>\n",
       "      <td>25.0</td>\n",
       "    </tr>\n",
       "    <tr>\n",
       "      <th>...</th>\n",
       "      <td>...</td>\n",
       "      <td>...</td>\n",
       "      <td>...</td>\n",
       "      <td>...</td>\n",
       "      <td>...</td>\n",
       "      <td>...</td>\n",
       "      <td>...</td>\n",
       "      <td>...</td>\n",
       "      <td>...</td>\n",
       "    </tr>\n",
       "    <tr>\n",
       "      <th>23711</th>\n",
       "      <td>GHCND:FIE00142080</td>\n",
       "      <td>51</td>\n",
       "      <td>60.3269</td>\n",
       "      <td>24.9603</td>\n",
       "      <td>20170930</td>\n",
       "      <td>NaN</td>\n",
       "      <td>47.0</td>\n",
       "      <td>49.0</td>\n",
       "      <td>44.0</td>\n",
       "    </tr>\n",
       "    <tr>\n",
       "      <th>23712</th>\n",
       "      <td>GHCND:FIE00142080</td>\n",
       "      <td>51</td>\n",
       "      <td>60.3269</td>\n",
       "      <td>24.9603</td>\n",
       "      <td>20171001</td>\n",
       "      <td>0.04</td>\n",
       "      <td>47.0</td>\n",
       "      <td>48.0</td>\n",
       "      <td>45.0</td>\n",
       "    </tr>\n",
       "    <tr>\n",
       "      <th>23713</th>\n",
       "      <td>GHCND:FIE00142080</td>\n",
       "      <td>51</td>\n",
       "      <td>60.3269</td>\n",
       "      <td>24.9603</td>\n",
       "      <td>20171002</td>\n",
       "      <td>NaN</td>\n",
       "      <td>47.0</td>\n",
       "      <td>49.0</td>\n",
       "      <td>46.0</td>\n",
       "    </tr>\n",
       "    <tr>\n",
       "      <th>23714</th>\n",
       "      <td>GHCND:FIE00142080</td>\n",
       "      <td>51</td>\n",
       "      <td>60.3269</td>\n",
       "      <td>24.9603</td>\n",
       "      <td>20171003</td>\n",
       "      <td>0.94</td>\n",
       "      <td>47.0</td>\n",
       "      <td>NaN</td>\n",
       "      <td>44.0</td>\n",
       "    </tr>\n",
       "    <tr>\n",
       "      <th>23715</th>\n",
       "      <td>GHCND:FIE00142080</td>\n",
       "      <td>51</td>\n",
       "      <td>60.3269</td>\n",
       "      <td>24.9603</td>\n",
       "      <td>20171004</td>\n",
       "      <td>0.51</td>\n",
       "      <td>52.0</td>\n",
       "      <td>56.0</td>\n",
       "      <td>NaN</td>\n",
       "    </tr>\n",
       "  </tbody>\n",
       "</table>\n",
       "<p>23716 rows × 9 columns</p>\n",
       "</div>"
      ],
      "text/plain": [
       "                 STATION  ELEVATION  LATITUDE  LONGITUDE      DATE  PRCP  \\\n",
       "0      GHCND:FIE00142080         51   60.3269    24.9603  19520101  0.31   \n",
       "1      GHCND:FIE00142080         51   60.3269    24.9603  19520102   NaN   \n",
       "2      GHCND:FIE00142080         51   60.3269    24.9603  19520103  0.14   \n",
       "3      GHCND:FIE00142080         51   60.3269    24.9603  19520104  0.05   \n",
       "4      GHCND:FIE00142080         51   60.3269    24.9603  19520105  0.06   \n",
       "...                  ...        ...       ...        ...       ...   ...   \n",
       "23711  GHCND:FIE00142080         51   60.3269    24.9603  20170930   NaN   \n",
       "23712  GHCND:FIE00142080         51   60.3269    24.9603  20171001  0.04   \n",
       "23713  GHCND:FIE00142080         51   60.3269    24.9603  20171002   NaN   \n",
       "23714  GHCND:FIE00142080         51   60.3269    24.9603  20171003  0.94   \n",
       "23715  GHCND:FIE00142080         51   60.3269    24.9603  20171004  0.51   \n",
       "\n",
       "       TAVG  TMAX  TMIN  \n",
       "0      37.0  39.0  34.0  \n",
       "1      35.0  37.0  34.0  \n",
       "2      33.0  36.0   NaN  \n",
       "3      29.0  30.0  25.0  \n",
       "4      27.0  30.0  25.0  \n",
       "...     ...   ...   ...  \n",
       "23711  47.0  49.0  44.0  \n",
       "23712  47.0  48.0  45.0  \n",
       "23713  47.0  49.0  46.0  \n",
       "23714  47.0   NaN  44.0  \n",
       "23715  52.0  56.0   NaN  \n",
       "\n",
       "[23716 rows x 9 columns]"
      ]
     },
     "execution_count": 113,
     "metadata": {},
     "output_type": "execute_result"
    }
   ],
   "source": [
    "monthly_data"
   ]
  },
  {
   "cell_type": "code",
   "execution_count": 114,
   "metadata": {},
   "outputs": [],
   "source": [
    "monthly_data[\"DATE_STR\"] = monthly_data[\"DATE\"].astype(str)"
   ]
  },
  {
   "cell_type": "code",
   "execution_count": 115,
   "metadata": {},
   "outputs": [],
   "source": [
    "monthly_data[\"DATE\"] = pd.to_datetime(monthly_data[\"DATE_STR\"])"
   ]
  },
  {
   "cell_type": "code",
   "execution_count": 118,
   "metadata": {},
   "outputs": [
    {
     "data": {
      "text/plain": [
       "0         1\n",
       "1         1\n",
       "2         1\n",
       "3         1\n",
       "4         1\n",
       "         ..\n",
       "23711     9\n",
       "23712    10\n",
       "23713    10\n",
       "23714    10\n",
       "23715    10\n",
       "Name: DATE, Length: 23716, dtype: int32"
      ]
     },
     "execution_count": 118,
     "metadata": {},
     "output_type": "execute_result"
    }
   ],
   "source": [
    "monthly_data[\"DATE\"].dt.month"
   ]
  },
  {
   "cell_type": "code",
   "execution_count": 119,
   "metadata": {},
   "outputs": [
    {
     "name": "stdout",
     "output_type": "stream",
     "text": [
      "     YEAR  MONTH  temp_celsius\n",
      "0    1952      1     -1.400966\n",
      "1    1952      2     -4.000000\n",
      "2    1952      3    -10.106838\n",
      "3    1952      4      4.226190\n",
      "4    1952      5      7.037037\n",
      "..    ...    ...           ...\n",
      "785  2017      6     13.500000\n",
      "786  2017      7     15.716846\n",
      "787  2017      8     15.716846\n",
      "788  2017      9     11.296296\n",
      "789  2017     10      9.027778\n",
      "\n",
      "[790 rows x 3 columns]\n"
     ]
    }
   ],
   "source": [
    "#Create a new dataframe called monthly_data\n",
    "monthly_data = pd.DataFrame(data)\n",
    "\n",
    "# Convert to string\n",
    "monthly_data[\"DATE_STR\"] = monthly_data[\"DATE\"].astype(str)\n",
    "\n",
    "# Convert character strings to datetime\n",
    "monthly_data[\"DATE\"] = pd.to_datetime(monthly_data[\"DATE_STR\"])\n",
    "\n",
    "# Extract year and month from the date\n",
    "monthly_data[\"YEAR\"] = monthly_data[\"DATE\"].dt.year\n",
    "monthly_data[\"MONTH\"] = monthly_data[\"DATE\"].dt.month\n",
    "\n",
    "# Function to convert Fahrenheit to Celsius\n",
    "def fahrenheit_to_celsius(f):\n",
    "    return (f - 32) * 5.0/9.0\n",
    "\n",
    "# Apply the conversion\n",
    "monthly_data[\"temp_celsius\"] = monthly_data[\"TAVG\"].apply(fahrenheit_to_celsius)\n",
    "\n",
    "# Group by year and month and calculate the mean temperature in Celsius\n",
    "monthly_data = monthly_data.groupby([\"YEAR\", \"MONTH\"]).agg({'temp_celsius': 'mean'}).reset_index()\n",
    "\n",
    "# Display the resulting DataFrame\n",
    "print(monthly_data)"
   ]
  },
  {
   "cell_type": "code",
   "execution_count": 124,
   "metadata": {},
   "outputs": [
    {
     "data": {
      "text/html": [
       "<div>\n",
       "<style scoped>\n",
       "    .dataframe tbody tr th:only-of-type {\n",
       "        vertical-align: middle;\n",
       "    }\n",
       "\n",
       "    .dataframe tbody tr th {\n",
       "        vertical-align: top;\n",
       "    }\n",
       "\n",
       "    .dataframe thead th {\n",
       "        text-align: right;\n",
       "    }\n",
       "</style>\n",
       "<table border=\"1\" class=\"dataframe\">\n",
       "  <thead>\n",
       "    <tr style=\"text-align: right;\">\n",
       "      <th></th>\n",
       "      <th>YEAR</th>\n",
       "      <th>MONTH</th>\n",
       "      <th>temp_celsius</th>\n",
       "    </tr>\n",
       "  </thead>\n",
       "  <tbody>\n",
       "    <tr>\n",
       "      <th>0</th>\n",
       "      <td>1952</td>\n",
       "      <td>1</td>\n",
       "      <td>-1.400966</td>\n",
       "    </tr>\n",
       "    <tr>\n",
       "      <th>1</th>\n",
       "      <td>1952</td>\n",
       "      <td>2</td>\n",
       "      <td>-4.000000</td>\n",
       "    </tr>\n",
       "    <tr>\n",
       "      <th>2</th>\n",
       "      <td>1952</td>\n",
       "      <td>3</td>\n",
       "      <td>-10.106838</td>\n",
       "    </tr>\n",
       "    <tr>\n",
       "      <th>3</th>\n",
       "      <td>1952</td>\n",
       "      <td>4</td>\n",
       "      <td>4.226190</td>\n",
       "    </tr>\n",
       "    <tr>\n",
       "      <th>4</th>\n",
       "      <td>1952</td>\n",
       "      <td>5</td>\n",
       "      <td>7.037037</td>\n",
       "    </tr>\n",
       "    <tr>\n",
       "      <th>5</th>\n",
       "      <td>1952</td>\n",
       "      <td>6</td>\n",
       "      <td>13.611111</td>\n",
       "    </tr>\n",
       "    <tr>\n",
       "      <th>6</th>\n",
       "      <td>1952</td>\n",
       "      <td>7</td>\n",
       "      <td>16.230159</td>\n",
       "    </tr>\n",
       "    <tr>\n",
       "      <th>7</th>\n",
       "      <td>1952</td>\n",
       "      <td>8</td>\n",
       "      <td>14.157706</td>\n",
       "    </tr>\n",
       "    <tr>\n",
       "      <th>8</th>\n",
       "      <td>1952</td>\n",
       "      <td>9</td>\n",
       "      <td>8.461538</td>\n",
       "    </tr>\n",
       "    <tr>\n",
       "      <th>9</th>\n",
       "      <td>1952</td>\n",
       "      <td>10</td>\n",
       "      <td>2.162698</td>\n",
       "    </tr>\n",
       "  </tbody>\n",
       "</table>\n",
       "</div>"
      ],
      "text/plain": [
       "   YEAR  MONTH  temp_celsius\n",
       "0  1952      1     -1.400966\n",
       "1  1952      2     -4.000000\n",
       "2  1952      3    -10.106838\n",
       "3  1952      4      4.226190\n",
       "4  1952      5      7.037037\n",
       "5  1952      6     13.611111\n",
       "6  1952      7     16.230159\n",
       "7  1952      8     14.157706\n",
       "8  1952      9      8.461538\n",
       "9  1952     10      2.162698"
      ]
     },
     "execution_count": 124,
     "metadata": {},
     "output_type": "execute_result"
    }
   ],
   "source": [
    "monthly_data.head(10)"
   ]
  },
  {
   "cell_type": "code",
   "execution_count": 70,
   "metadata": {},
   "outputs": [
    {
     "name": "stdout",
     "output_type": "stream",
     "text": [
      "   year  month  temp_celsius\n",
      "0  2023      1      0.833333\n",
      "1  2023      2      5.000000\n"
     ]
    }
   ],
   "source": [
    "# Sample data\n",
    "data = {\n",
    "    'date': ['2023-01-01', '2023-01-02', '2023-02-01', '2023-02-02'],\n",
    "    'TAVG': [32, 35, 40, 42]\n",
    "}\n",
    "df = pd.DataFrame(data)\n",
    "df['date'] = pd.to_datetime(df['date'])\n",
    "\n",
    "# Extract year and month from the date\n",
    "df['year'] = df['date'].dt.year\n",
    "df['month'] = df['date'].dt.month\n",
    "\n",
    "# Function to convert Fahrenheit to Celsius\n",
    "def fahrenheit_to_celsius(f):\n",
    "    return (f - 32) * 5.0/9.0\n",
    "\n",
    "# Apply the conversion\n",
    "df['temp_celsius'] = df['TAVG'].apply(fahrenheit_to_celsius)\n",
    "\n",
    "# Group by year and month and calculate the mean temperature in Celsius\n",
    "monthly_data2 = df.groupby(['year', 'month']).agg({'temp_celsius': 'mean'}).reset_index()\n",
    "\n",
    "# Display the resulting DataFrame\n",
    "print(monthly_data2)"
   ]
  },
  {
   "cell_type": "code",
   "execution_count": 120,
   "metadata": {
    "deletable": false,
    "editable": false,
    "nbgrader": {
     "cell_type": "code",
     "checksum": "4056e5de535b8a5876a1398db98c6354",
     "grade": true,
     "grade_id": "problem_2_ag_p1_monthly_averages_test1",
     "locked": true,
     "points": 0.2,
     "schema_version": 3,
     "solution": false
    }
   },
   "outputs": [
    {
     "name": "stdout",
     "output_type": "stream",
     "text": [
      "790\n"
     ]
    }
   ],
   "source": [
    "# This test prints the length of variable monthly_data\n",
    "print(len(monthly_data))"
   ]
  },
  {
   "cell_type": "code",
   "execution_count": 121,
   "metadata": {
    "deletable": false,
    "editable": false,
    "nbgrader": {
     "cell_type": "code",
     "checksum": "83df5c3ce9dbc27d43ec8e229d74c2e4",
     "grade": true,
     "grade_id": "problem_2_ag_p1_monthly_averages_test2",
     "locked": true,
     "points": 0.8,
     "schema_version": 3,
     "solution": false
    }
   },
   "outputs": [
    {
     "name": "stdout",
     "output_type": "stream",
     "text": [
      "['YEAR' 'MONTH' 'temp_celsius']\n"
     ]
    }
   ],
   "source": [
    "# This test prints the column names of monthly_data\n",
    "print(monthly_data.columns.values)"
   ]
  },
  {
   "cell_type": "code",
   "execution_count": 122,
   "metadata": {
    "deletable": false,
    "editable": false,
    "nbgrader": {
     "cell_type": "code",
     "checksum": "e549d86372354e9d10991a5b4681afc8",
     "grade": true,
     "grade_id": "problem_2_ag_p1_monthly_averages_test3",
     "locked": true,
     "points": 1,
     "schema_version": 3,
     "solution": false
    }
   },
   "outputs": [
    {
     "name": "stdout",
     "output_type": "stream",
     "text": [
      "5.097114347669992\n"
     ]
    }
   ],
   "source": [
    "# This test prints the mean of temp_celsius\n",
    "print(monthly_data['temp_celsius'].mean())"
   ]
  },
  {
   "cell_type": "code",
   "execution_count": 123,
   "metadata": {
    "deletable": false,
    "editable": false,
    "nbgrader": {
     "cell_type": "code",
     "checksum": "93578f7c39a20ed819ae2e398e2e16fb",
     "grade": true,
     "grade_id": "problem_2_ag_p1_monthly_averages_test4",
     "locked": true,
     "points": 1,
     "schema_version": 3,
     "solution": false
    }
   },
   "outputs": [
    {
     "name": "stdout",
     "output_type": "stream",
     "text": [
      "4.73\n"
     ]
    }
   ],
   "source": [
    "# This test prints the median of temp_celsius\n",
    "print(round(monthly_data['temp_celsius'].median(), 2))"
   ]
  },
  {
   "cell_type": "markdown",
   "metadata": {
    "deletable": false,
    "editable": false,
    "nbgrader": {
     "cell_type": "markdown",
     "checksum": "7eed5a388610075bb6cf46016d183bb0",
     "grade": false,
     "grade_id": "cell-ccd31e45c30df3ec",
     "locked": true,
     "schema_version": 3,
     "solution": false
    }
   },
   "source": [
    "## Problem 3 - Calculating temperature anomalies (5 points)\n",
    "\n",
    "Our goal in this problem is to calculate monthly temperature anomalies in order to see how temperatures have changed over time, relative to an observation period between 1952-1980. You can continue working with the same data that you used in Problems 1 and 2.\n",
    "\n",
    "**Your score on this problem will be based on following criteria:**\n",
    "\n",
    "### Part 1\n",
    "\n",
    "- Calculating ***the average (mean) temperature for each month (e.g., January, February, March, ...) over the period from 1952 up to and including 1980*** in a new DataFrame called `reference_temps`\n",
    "    - You should end up with 12 values, 1 mean temperature for each month during the time period (see example table and figure below).\n",
    "    - The columns in the new DataFrame should be `month` and `ref_temp`\n",
    "    \n",
    "Your `reference_temps` dataframe should have the following structure: 1 value for each month of the year (12 total) and the values represent and average in the observation period 1952-1980. The `ref_temp` temperatures should be in degrees Celsius.\n",
    "   \n",
    "| month    | ref_temp         |\n",
    "|----------|------------------|\n",
    "| 01       | -5.838761        |\n",
    "| 02       | -7.064088        |\n",
    "| 03       | -3.874213        |\n",
    "| ...      | ...              |\n",
    "\n",
    "### Part 2\n",
    "\n",
    "- Calculating **a temperature anomaly for every month** in the `monthly_data` DataFrame using the corresponding monthly average temperature for each of the 12 months:\n",
    "    - In order to achieve this you need to make **a table join** (see [hints for this week](https://geo-python-site.readthedocs.io/en/develop/lessons/L6/exercise-6.html#joining-data-from-one-dataframe-to-another)) between `monthly_data` and `ref_temps` based on the month.\n",
    "    - The temperature anomaly is calculated as the difference between the temperature for a given month (`temp_celsius` column in `monthly_data`) and the corresponding monthly reference temperature (`ref_temp` column in`reference_temps`).\n",
    "    - Store the result in a new column `\"diff\"` \n",
    "    \n",
    "As the output of the table join and the calculation, you should have three new columns in the `monthly_data` DataFrame:\n",
    "\n",
    "1. `diff`: The temperature anomaly, i.e. the difference between the temperature for a given month (e.g., February 1960) and the mean temperature during the reference period (e.g., the average of all Februaries between 1952 and 1980), \n",
    "2. `month`: The month for that row of observations\n",
    "3. `ref_temp`: The monthly reference temperature\n",
    "\n",
    "A summary of the relationships between the `monthly_data` and `reference_temps` DataFrames, as well as how the `diff` value should be calculated in the `monthly_data` DataFrame is presented in the figure below.\n",
    "\n",
    "![Exercise 6 dataframes](img/exercise-6-dataframes.png)<br/>\n",
    "*Figure 1. Relationships between the `monthly_data` and `reference_temps` DataFrames.*\n",
    "\n",
    "You should finally report which month had the greatest weather anomaly during the observed time period.\n",
    "\n",
    "Remember to include comments in your code."
   ]
  },
  {
   "cell_type": "code",
   "execution_count": null,
   "metadata": {
    "deletable": false,
    "nbgrader": {
     "cell_type": "code",
     "checksum": "1e0b52840218bc91e6aed8f49134be4f",
     "grade": false,
     "grade_id": "problem_3_ag_p1_temperature_anomaly",
     "locked": false,
     "schema_version": 3,
     "solution": true
    }
   },
   "outputs": [],
   "source": [
    "# YOUR CODE HERE\n",
    "raise NotImplementedError()"
   ]
  },
  {
   "cell_type": "code",
   "execution_count": 151,
   "metadata": {},
   "outputs": [
    {
     "data": {
      "text/html": [
       "<div>\n",
       "<style scoped>\n",
       "    .dataframe tbody tr th:only-of-type {\n",
       "        vertical-align: middle;\n",
       "    }\n",
       "\n",
       "    .dataframe tbody tr th {\n",
       "        vertical-align: top;\n",
       "    }\n",
       "\n",
       "    .dataframe thead th {\n",
       "        text-align: right;\n",
       "    }\n",
       "</style>\n",
       "<table border=\"1\" class=\"dataframe\">\n",
       "  <thead>\n",
       "    <tr style=\"text-align: right;\">\n",
       "      <th></th>\n",
       "      <th>MONTH</th>\n",
       "      <th>ref_temp</th>\n",
       "    </tr>\n",
       "  </thead>\n",
       "  <tbody>\n",
       "    <tr>\n",
       "      <th>0</th>\n",
       "      <td>1</td>\n",
       "      <td>-5.838761</td>\n",
       "    </tr>\n",
       "    <tr>\n",
       "      <th>1</th>\n",
       "      <td>2</td>\n",
       "      <td>-7.064088</td>\n",
       "    </tr>\n",
       "    <tr>\n",
       "      <th>2</th>\n",
       "      <td>3</td>\n",
       "      <td>-3.874213</td>\n",
       "    </tr>\n",
       "    <tr>\n",
       "      <th>3</th>\n",
       "      <td>4</td>\n",
       "      <td>2.370749</td>\n",
       "    </tr>\n",
       "    <tr>\n",
       "      <th>4</th>\n",
       "      <td>5</td>\n",
       "      <td>9.482356</td>\n",
       "    </tr>\n",
       "    <tr>\n",
       "      <th>5</th>\n",
       "      <td>6</td>\n",
       "      <td>14.661728</td>\n",
       "    </tr>\n",
       "    <tr>\n",
       "      <th>6</th>\n",
       "      <td>7</td>\n",
       "      <td>16.520986</td>\n",
       "    </tr>\n",
       "    <tr>\n",
       "      <th>7</th>\n",
       "      <td>8</td>\n",
       "      <td>15.045650</td>\n",
       "    </tr>\n",
       "    <tr>\n",
       "      <th>8</th>\n",
       "      <td>9</td>\n",
       "      <td>9.934222</td>\n",
       "    </tr>\n",
       "    <tr>\n",
       "      <th>9</th>\n",
       "      <td>10</td>\n",
       "      <td>4.952240</td>\n",
       "    </tr>\n",
       "    <tr>\n",
       "      <th>10</th>\n",
       "      <td>11</td>\n",
       "      <td>0.245195</td>\n",
       "    </tr>\n",
       "    <tr>\n",
       "      <th>11</th>\n",
       "      <td>12</td>\n",
       "      <td>-4.165641</td>\n",
       "    </tr>\n",
       "  </tbody>\n",
       "</table>\n",
       "</div>"
      ],
      "text/plain": [
       "    MONTH   ref_temp\n",
       "0       1  -5.838761\n",
       "1       2  -7.064088\n",
       "2       3  -3.874213\n",
       "3       4   2.370749\n",
       "4       5   9.482356\n",
       "5       6  14.661728\n",
       "6       7  16.520986\n",
       "7       8  15.045650\n",
       "8       9   9.934222\n",
       "9      10   4.952240\n",
       "10     11   0.245195\n",
       "11     12  -4.165641"
      ]
     },
     "execution_count": 151,
     "metadata": {},
     "output_type": "execute_result"
    }
   ],
   "source": [
    "# PART 1\n",
    "# Filter data for the period 1952-1980\n",
    "reference_period = monthly_data[(monthly_data[\"YEAR\"] >= 1952) & (monthly_data[\"YEAR\"] <= 1980)]\n",
    "\n",
    "# Calculate the mean temperature for each month\n",
    "reference_temps = reference_period.groupby(\"MONTH\")['temp_celsius'].mean().reset_index()\n",
    "\n",
    "# Rename the columns\n",
    "reference_temps.columns = [\"MONTH\", \"ref_temp\"]\n",
    "\n",
    "reference_temps"
   ]
  },
  {
   "cell_type": "code",
   "execution_count": 177,
   "metadata": {},
   "outputs": [],
   "source": [
    "# PART 2\n",
    "# Merge the monthly_data with reference_temps on the 'month' column\n",
    "monthly_data = monthly_data.merge(reference_temps, on=\"MONTH\", how=\"left\")\n",
    "\n",
    "# Calculate the temperature anomaly\n",
    "monthly_data[\"diff\"] = monthly_data[\"temp_celsius\"] - monthly_data[\"ref_temp\"]\n",
    "\n",
    "#print(monthly_data[['year', 'month', 'temp_celsius', 'ref_temp', 'diff']])"
   ]
  },
  {
   "cell_type": "code",
   "execution_count": 178,
   "metadata": {
    "deletable": false,
    "editable": false,
    "nbgrader": {
     "cell_type": "code",
     "checksum": "62c207f31e93d4acf7be882e988e402d",
     "grade": true,
     "grade_id": "problem_3_ag_p1_temperature_anomaly_test1",
     "locked": true,
     "points": 1,
     "schema_version": 3,
     "solution": false
    }
   },
   "outputs": [
    {
     "data": {
      "text/html": [
       "<div>\n",
       "<style scoped>\n",
       "    .dataframe tbody tr th:only-of-type {\n",
       "        vertical-align: middle;\n",
       "    }\n",
       "\n",
       "    .dataframe tbody tr th {\n",
       "        vertical-align: top;\n",
       "    }\n",
       "\n",
       "    .dataframe thead th {\n",
       "        text-align: right;\n",
       "    }\n",
       "</style>\n",
       "<table border=\"1\" class=\"dataframe\">\n",
       "  <thead>\n",
       "    <tr style=\"text-align: right;\">\n",
       "      <th></th>\n",
       "      <th>YEAR</th>\n",
       "      <th>MONTH</th>\n",
       "      <th>temp_celsius</th>\n",
       "      <th>ref_temp</th>\n",
       "      <th>diff</th>\n",
       "    </tr>\n",
       "  </thead>\n",
       "  <tbody>\n",
       "    <tr>\n",
       "      <th>0</th>\n",
       "      <td>1952</td>\n",
       "      <td>1</td>\n",
       "      <td>-1.400966</td>\n",
       "      <td>-5.838761</td>\n",
       "      <td>4.437795</td>\n",
       "    </tr>\n",
       "    <tr>\n",
       "      <th>1</th>\n",
       "      <td>1952</td>\n",
       "      <td>2</td>\n",
       "      <td>-4.000000</td>\n",
       "      <td>-7.064088</td>\n",
       "      <td>3.064088</td>\n",
       "    </tr>\n",
       "    <tr>\n",
       "      <th>2</th>\n",
       "      <td>1952</td>\n",
       "      <td>3</td>\n",
       "      <td>-10.106838</td>\n",
       "      <td>-3.874213</td>\n",
       "      <td>-6.232625</td>\n",
       "    </tr>\n",
       "    <tr>\n",
       "      <th>3</th>\n",
       "      <td>1952</td>\n",
       "      <td>4</td>\n",
       "      <td>4.226190</td>\n",
       "      <td>2.370749</td>\n",
       "      <td>1.855441</td>\n",
       "    </tr>\n",
       "    <tr>\n",
       "      <th>4</th>\n",
       "      <td>1952</td>\n",
       "      <td>5</td>\n",
       "      <td>7.037037</td>\n",
       "      <td>9.482356</td>\n",
       "      <td>-2.445319</td>\n",
       "    </tr>\n",
       "  </tbody>\n",
       "</table>\n",
       "</div>"
      ],
      "text/plain": [
       "   YEAR  MONTH  temp_celsius  ref_temp      diff\n",
       "0  1952      1     -1.400966 -5.838761  4.437795\n",
       "1  1952      2     -4.000000 -7.064088  3.064088\n",
       "2  1952      3    -10.106838 -3.874213 -6.232625\n",
       "3  1952      4      4.226190  2.370749  1.855441\n",
       "4  1952      5      7.037037  9.482356 -2.445319"
      ]
     },
     "execution_count": 178,
     "metadata": {},
     "output_type": "execute_result"
    }
   ],
   "source": [
    "# Check the monthly data:\n",
    "monthly_data.head()"
   ]
  },
  {
   "cell_type": "code",
   "execution_count": 179,
   "metadata": {
    "deletable": false,
    "editable": false,
    "nbgrader": {
     "cell_type": "code",
     "checksum": "8cd77d3c5aa734cd67c966f6513c16c8",
     "grade": true,
     "grade_id": "problem_3_ag_p1_temperature_anomaly_test2",
     "locked": true,
     "points": 4,
     "schema_version": 3,
     "solution": false
    }
   },
   "outputs": [
    {
     "data": {
      "text/html": [
       "<div>\n",
       "<style scoped>\n",
       "    .dataframe tbody tr th:only-of-type {\n",
       "        vertical-align: middle;\n",
       "    }\n",
       "\n",
       "    .dataframe tbody tr th {\n",
       "        vertical-align: top;\n",
       "    }\n",
       "\n",
       "    .dataframe thead th {\n",
       "        text-align: right;\n",
       "    }\n",
       "</style>\n",
       "<table border=\"1\" class=\"dataframe\">\n",
       "  <thead>\n",
       "    <tr style=\"text-align: right;\">\n",
       "      <th></th>\n",
       "      <th>temp_celsius</th>\n",
       "      <th>ref_temp</th>\n",
       "      <th>diff</th>\n",
       "    </tr>\n",
       "  </thead>\n",
       "  <tbody>\n",
       "    <tr>\n",
       "      <th>count</th>\n",
       "      <td>682.000000</td>\n",
       "      <td>790.000000</td>\n",
       "      <td>682.000000</td>\n",
       "    </tr>\n",
       "    <tr>\n",
       "      <th>mean</th>\n",
       "      <td>5.097114</td>\n",
       "      <td>4.371859</td>\n",
       "      <td>0.722724</td>\n",
       "    </tr>\n",
       "    <tr>\n",
       "      <th>std</th>\n",
       "      <td>8.483949</td>\n",
       "      <td>8.284129</td>\n",
       "      <td>2.537855</td>\n",
       "    </tr>\n",
       "    <tr>\n",
       "      <th>min</th>\n",
       "      <td>-17.974910</td>\n",
       "      <td>-7.064088</td>\n",
       "      <td>-12.136149</td>\n",
       "    </tr>\n",
       "    <tr>\n",
       "      <th>25%</th>\n",
       "      <td>-1.685185</td>\n",
       "      <td>-3.874213</td>\n",
       "      <td>-0.820655</td>\n",
       "    </tr>\n",
       "    <tr>\n",
       "      <th>50%</th>\n",
       "      <td>4.726105</td>\n",
       "      <td>4.952240</td>\n",
       "      <td>0.789118</td>\n",
       "    </tr>\n",
       "    <tr>\n",
       "      <th>75%</th>\n",
       "      <td>12.870370</td>\n",
       "      <td>13.479851</td>\n",
       "      <td>2.325922</td>\n",
       "    </tr>\n",
       "    <tr>\n",
       "      <th>max</th>\n",
       "      <td>22.329749</td>\n",
       "      <td>16.520986</td>\n",
       "      <td>8.234723</td>\n",
       "    </tr>\n",
       "  </tbody>\n",
       "</table>\n",
       "</div>"
      ],
      "text/plain": [
       "       temp_celsius    ref_temp        diff\n",
       "count    682.000000  790.000000  682.000000\n",
       "mean       5.097114    4.371859    0.722724\n",
       "std        8.483949    8.284129    2.537855\n",
       "min      -17.974910   -7.064088  -12.136149\n",
       "25%       -1.685185   -3.874213   -0.820655\n",
       "50%        4.726105    4.952240    0.789118\n",
       "75%       12.870370   13.479851    2.325922\n",
       "max       22.329749   16.520986    8.234723"
      ]
     },
     "execution_count": 179,
     "metadata": {},
     "output_type": "execute_result"
    }
   ],
   "source": [
    "# Print out desriptive statistics for the relevant columns:\n",
    "monthly_data[[\"temp_celsius\", \"ref_temp\", \"diff\"]].describe()"
   ]
  },
  {
   "cell_type": "markdown",
   "metadata": {
    "deletable": false,
    "editable": false,
    "nbgrader": {
     "cell_type": "markdown",
     "checksum": "26c896552bd7468608a123f5ab321b18",
     "grade": false,
     "grade_id": "cell-bf1e120de1e8386e",
     "locked": true,
     "schema_version": 3,
     "solution": false,
     "task": false
    }
   },
   "source": [
    "Remember also to calculate which month had the largest temperature anomaly during the observed time period in comparison with the reference data. Use the cell below to calculate and print out the answers. Note, you may want to consider the largest absolute value of the temperature anomaly, as well as the largest positive and negative anomalies."
   ]
  },
  {
   "cell_type": "code",
   "execution_count": null,
   "metadata": {
    "deletable": false,
    "nbgrader": {
     "cell_type": "code",
     "checksum": "e1c152b58226fca2c1d60600220754ca",
     "grade": true,
     "grade_id": "problem_3_mg_p2_extra_question",
     "locked": false,
     "points": 0,
     "schema_version": 3,
     "solution": true,
     "task": false
    }
   },
   "outputs": [],
   "source": [
    "# YOUR CODE HERE\n",
    "raise NotImplementedError()"
   ]
  },
  {
   "cell_type": "markdown",
   "metadata": {
    "deletable": false,
    "editable": false,
    "nbgrader": {
     "cell_type": "markdown",
     "checksum": "a243cc6034fed82c367bd71510863b73",
     "grade": false,
     "grade_id": "cell-240aee28f2cbad38",
     "locked": true,
     "schema_version": 3,
     "solution": false,
     "task": false
    },
    "tags": []
   },
   "source": [
    "## Part 3 (*optional*) - **AI-LLM OK**\n",
    "\n",
    "Using [ChatGPT](https://openai.com/chatgpt), calculate the reference temperatures and temperature anomalies as directed above.\n",
    "\n",
    "- Your reference temperatures should be stored in a new DataFrame called `ai_reference_temps`\n",
    "    - The columns in the new DataFrame should be `month` and `ai_ref_temp`\n",
    "- Calculate **a temperature anomaly for every month** in the `monthly_data` DataFrame using the corresponding monthly average temperature for each of the 12 months:\n",
    "    - You again need to make **a table join** (see [hints for this week](https://geo-python-site.readthedocs.io/en/develop/lessons/L6/exercise-6.html#joining-data-from-one-dataframe-to-another)) between `monthly_data` and `ai_ref_temps` based on the month.\n",
    "    - The temperature anomaly is calculated as the difference between the temperature for a given month (`temp_celsius` column in `monthly_data`) and the corresponding monthly reference temperature (`ai_ref_temp` column in`reference_temps`).\n",
    "    - Store the result in a new column `\"ai_diff\"` \n",
    "\n",
    "In order to do this, you should post both the prompt you provide to ChatGPT and the code it produces in the cells below. As your prompts may need to be refined to get your code working, please report each prompt so we can see how you arrived at your final version of the function."
   ]
  },
  {
   "cell_type": "markdown",
   "metadata": {
    "deletable": false,
    "editable": false,
    "nbgrader": {
     "cell_type": "markdown",
     "checksum": "b377a286009ddb9c7005dd296b946f16",
     "grade": false,
     "grade_id": "cell-b8977920050dc044",
     "locked": true,
     "schema_version": 3,
     "solution": false,
     "task": false
    },
    "tags": []
   },
   "source": [
    "### Prompt 1\n",
    "\n",
    "Enter the text of the first prompt you used for this part of the exercise below."
   ]
  },
  {
   "cell_type": "markdown",
   "metadata": {
    "deletable": false,
    "nbgrader": {
     "cell_type": "markdown",
     "checksum": "7d2254c835ec3438492636d460f64362",
     "grade": true,
     "grade_id": "problem_3_prompt1",
     "locked": false,
     "points": 0,
     "schema_version": 3,
     "solution": true,
     "task": false
    },
    "tags": []
   },
   "source": [
    "YOUR ANSWER HERE"
   ]
  },
  {
   "cell_type": "markdown",
   "metadata": {
    "deletable": false,
    "editable": false,
    "nbgrader": {
     "cell_type": "markdown",
     "checksum": "479a9f5b2adea67c4f21629ab4bf289d",
     "grade": false,
     "grade_id": "cell-7fa9cb54703018e4",
     "locked": true,
     "schema_version": 3,
     "solution": false,
     "task": false
    },
    "tags": []
   },
   "source": [
    "Enter the code generated by your first prompt below."
   ]
  },
  {
   "cell_type": "code",
   "execution_count": null,
   "metadata": {
    "deletable": false,
    "nbgrader": {
     "cell_type": "code",
     "checksum": "92f417ea58e3b00c2ed9e38e8319f961",
     "grade": true,
     "grade_id": "problem_3_prompt1_code",
     "locked": false,
     "points": 0,
     "schema_version": 3,
     "solution": true,
     "task": false
    },
    "tags": []
   },
   "outputs": [],
   "source": [
    "# YOUR CODE HERE\n",
    "raise NotImplementedError()"
   ]
  },
  {
   "cell_type": "markdown",
   "metadata": {
    "deletable": false,
    "editable": false,
    "nbgrader": {
     "cell_type": "markdown",
     "checksum": "c4707a027ab1601ef14f5da3bc7db5a4",
     "grade": false,
     "grade_id": "cell-e8d9d559ca92cd30",
     "locked": true,
     "schema_version": 3,
     "solution": false,
     "task": false
    },
    "tags": []
   },
   "source": [
    "Looking at the function produced by ChatGPT do you see any problems compared to your solution in Part 1? Please comment below about this."
   ]
  },
  {
   "cell_type": "markdown",
   "metadata": {
    "deletable": false,
    "nbgrader": {
     "cell_type": "markdown",
     "checksum": "9b8e0446b40af40036d872f2ab6d1290",
     "grade": true,
     "grade_id": "problem_3_prompt1_comments",
     "locked": false,
     "points": 0,
     "schema_version": 3,
     "solution": true,
     "task": false
    },
    "tags": []
   },
   "source": [
    "YOUR ANSWER HERE"
   ]
  },
  {
   "cell_type": "markdown",
   "metadata": {
    "deletable": false,
    "editable": false,
    "nbgrader": {
     "cell_type": "markdown",
     "checksum": "7cc52a85287b9b9718e2bb7c30872398",
     "grade": false,
     "grade_id": "cell-5322fb5cceca329f",
     "locked": true,
     "schema_version": 3,
     "solution": false,
     "task": false
    },
    "tags": []
   },
   "source": [
    "Test out your code by running the tests below."
   ]
  },
  {
   "cell_type": "code",
   "execution_count": null,
   "metadata": {
    "deletable": false,
    "editable": false,
    "nbgrader": {
     "cell_type": "code",
     "checksum": "7c62ed2f068b6e2cc42f6d701a79f04d",
     "grade": true,
     "grade_id": "problem_3_ag_p3_ai_anomalies_test1",
     "locked": true,
     "points": 0,
     "schema_version": 3,
     "solution": false,
     "task": false
    },
    "tags": []
   },
   "outputs": [],
   "source": [
    "# Check the monthly data:\n",
    "monthly_data.head()"
   ]
  },
  {
   "cell_type": "code",
   "execution_count": null,
   "metadata": {
    "deletable": false,
    "editable": false,
    "nbgrader": {
     "cell_type": "code",
     "checksum": "d5d2b7c787e6fe04734093a642ae8108",
     "grade": true,
     "grade_id": "problem_3_ag_p3_ai_anomalies_test2",
     "locked": true,
     "points": 0,
     "schema_version": 3,
     "solution": false,
     "task": false
    },
    "tags": []
   },
   "outputs": [],
   "source": [
    "# Print out desriptive statistics for the relevant columns:\n",
    "monthly_data[[\"temp_celsius\", \"ai_ref_temp\", \"ai_diff\"]].describe()"
   ]
  },
  {
   "cell_type": "markdown",
   "metadata": {
    "deletable": false,
    "editable": false,
    "nbgrader": {
     "cell_type": "markdown",
     "checksum": "3fda2a1c880a8cf1cd39767db9ab9cc4",
     "grade": false,
     "grade_id": "cell-814ec00b7cfa9491",
     "locked": true,
     "schema_version": 3,
     "solution": false,
     "task": false
    },
    "tags": []
   },
   "source": [
    "### Additional prompts\n",
    "\n",
    "In the event your code does not pass all of the tests above, please enter the prompt(s) you used to refine the function in the cell below. If you used more than one prompt, you can format them as a Markdown list using the format demonstrated below:\n",
    "\n",
    "```\n",
    "1. First prompt\n",
    "2. Second prompt\n",
    "3. ...\n",
    "```\n",
    "\n",
    "If no additional prompts were needed, you can skip this."
   ]
  },
  {
   "cell_type": "markdown",
   "metadata": {
    "deletable": false,
    "nbgrader": {
     "cell_type": "markdown",
     "checksum": "1c58aa6d1b5378633a6be16682be900c",
     "grade": true,
     "grade_id": "problem_3_additional_prompts",
     "locked": false,
     "points": 0,
     "schema_version": 3,
     "solution": true,
     "task": false
    },
    "tags": []
   },
   "source": [
    "YOUR ANSWER HERE"
   ]
  },
  {
   "cell_type": "markdown",
   "metadata": {
    "deletable": false,
    "editable": false,
    "nbgrader": {
     "cell_type": "markdown",
     "checksum": "805c542594d142c8d0e55c2febc08a1e",
     "grade": false,
     "grade_id": "cell-e240eebedbc7f5a8",
     "locked": true,
     "schema_version": 3,
     "solution": false,
     "task": false
    },
    "tags": []
   },
   "source": [
    "Enter the final version of your code produced by ChatGPT in the cell below. You can test the code by re-running the tests above after updating the code below."
   ]
  },
  {
   "cell_type": "code",
   "execution_count": null,
   "metadata": {
    "deletable": false,
    "nbgrader": {
     "cell_type": "code",
     "checksum": "7e0727ead19a6d685f561166cd8bc005",
     "grade": true,
     "grade_id": "problem_3_additional_prompts_code",
     "locked": false,
     "points": 0,
     "schema_version": 3,
     "solution": true,
     "task": false
    },
    "tags": []
   },
   "outputs": [],
   "source": [
    "# YOUR CODE HERE\n",
    "raise NotImplementedError()"
   ]
  },
  {
   "cell_type": "markdown",
   "metadata": {
    "deletable": false,
    "editable": false,
    "nbgrader": {
     "cell_type": "markdown",
     "checksum": "579292b64b516c6132c33e022f6c8ff1",
     "grade": false,
     "grade_id": "cell-d5f2d1f02886a81e",
     "locked": true,
     "schema_version": 3,
     "solution": false,
     "task": false
    },
    "tags": []
   },
   "source": [
    "Does your revised function now pass all of the tests?\n",
    "- If yes, please comment below about your experience using ChatGPT and the benefits and drawbacks you see.\n",
    "- If no, what kinds of problems do you see with the revised function produced by ChatGPT compared to your solution in Part 1? Please comment below about this."
   ]
  },
  {
   "cell_type": "markdown",
   "metadata": {
    "deletable": false,
    "nbgrader": {
     "cell_type": "markdown",
     "checksum": "e8c4985a60a89af2836cc1a6770742f8",
     "grade": true,
     "grade_id": "problem_3_additional_prompts_comments",
     "locked": false,
     "points": 0,
     "schema_version": 3,
     "solution": true,
     "task": false
    },
    "tags": []
   },
   "source": [
    "YOUR ANSWER HERE"
   ]
  },
  {
   "cell_type": "markdown",
   "metadata": {
    "deletable": false,
    "editable": false,
    "nbgrader": {
     "cell_type": "markdown",
     "checksum": "d876dd3b631f41f36f51d4d35374f80a",
     "grade": false,
     "grade_id": "cell-c04e09ef1ce70071",
     "locked": true,
     "schema_version": 3,
     "solution": false,
     "task": false
    },
    "tags": []
   },
   "source": [
    "### Final comments\n",
    "\n",
    "If you have any other comments about your experience using ChatGPT in this problem, please enter those below."
   ]
  },
  {
   "cell_type": "markdown",
   "metadata": {
    "deletable": false,
    "nbgrader": {
     "cell_type": "markdown",
     "checksum": "a807458696f204d907ae2c4945ef622b",
     "grade": true,
     "grade_id": "problem_3_chatgpt_comments",
     "locked": false,
     "points": 0,
     "schema_version": 3,
     "solution": true,
     "task": false
    },
    "tags": []
   },
   "source": [
    "YOUR ANSWER HERE"
   ]
  },
  {
   "cell_type": "markdown",
   "metadata": {
    "deletable": false,
    "editable": false,
    "nbgrader": {
     "cell_type": "markdown",
     "checksum": "05d75271b13f8fd543895353efb8b61c",
     "grade": false,
     "grade_id": "cell-99d62d1b7e475fd6",
     "locked": true,
     "schema_version": 3,
     "solution": false
    }
   },
   "source": [
    "### On to Problem 4 (*optional*)\n",
    "\n",
    "Now you can continue to the *optional* [Problem 4](Exercise-6-problem-4.ipynb)"
   ]
  }
 ],
 "metadata": {
  "kernelspec": {
   "display_name": "Python 3 (ipykernel)",
   "language": "python",
   "name": "python3"
  },
  "language_info": {
   "codemirror_mode": {
    "name": "ipython",
    "version": 3
   },
   "file_extension": ".py",
   "mimetype": "text/x-python",
   "name": "python",
   "nbconvert_exporter": "python",
   "pygments_lexer": "ipython3",
   "version": "3.12.4"
  }
 },
 "nbformat": 4,
 "nbformat_minor": 4
}

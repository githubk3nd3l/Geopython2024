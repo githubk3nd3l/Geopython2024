{
 "cells": [
  {
   "cell_type": "markdown",
   "metadata": {
    "deletable": false,
    "editable": false,
    "nbgrader": {
     "cell_type": "markdown",
     "checksum": "5c80a2a9de6cb49c29a435c2524fb4a6",
     "grade": false,
     "grade_id": "Intro_text",
     "locked": true,
     "schema_version": 3,
     "solution": false
    }
   },
   "source": [
    "## Problem 3 - Data analysis (4 points)\n",
    "\n",
    "In this problem we will explore our temperature data by comparing spring temperatures between Helsinki Kumpula and Rovaniemi. To do this we'll use some conditions to extract subsets of our data and then analyse these subsets using basic pandas functions. Please perform the tasks below by writing your code into the code cells in each section.\n",
    "\n",
    "### Tips for completing this problem\n",
    "\n",
    "- Use **exactly** the same variable names as in the instructions because your answers will be automatically graded, and the tests that grade your answers rely on following the same formatting or variable naming as in the instructions.\n",
    "- **Please do not**:\n",
    "\n",
    "    - **Change the file names**. Do all of your editing in the provided `Exercise-5-problem-3.ipynb` file (this file).\n",
    "    - **Copy/paste cells in this notebook**. We use an automated grading system that will fail if there are copies of code cells.\n",
    "    - **Change the existing cell types**. You can add cells, but changing the cell types for existing cells (from code to markdown, for example) will also cause the automated grader to fail. \n",
    "\n",
    "### Scores for this problem\n",
    "\n",
    "**Your score on this problem will be based on following criteria:**\n",
    "\n",
    "- Calculating the median temperatures for Helsinki Kumpula and Rovaniemi for the summer of 2017\n",
    "- Selecting temperatures for May and June 2017 in separate dataframes for each location\n",
    "- Printing out some summary values for each month (May, June) and location (Kumpula, Rovaniemi)\n",
    "- Including comments that explain what most lines in the code do\n",
    "- Answering a couple questions at the end of the problem\n",
    "- Uploading your notebook and data files to your GitHub repository for this week's exercise"
   ]
  },
  {
   "cell_type": "markdown",
   "metadata": {
    "deletable": false,
    "editable": false,
    "nbgrader": {
     "cell_type": "markdown",
     "checksum": "f44f543a21dd35544d34ed3ddf672997",
     "grade": false,
     "grade_id": "cell-a91a0ee92f8c4962",
     "locked": true,
     "schema_version": 3,
     "solution": false,
     "task": false
    },
    "tags": []
   },
   "source": [
    "## AI tool usage agreement\n",
    "\n",
    "**Enter your name (and that of your partner) in the cell below** to confirm that you have followed the [course guidelines on the use of AI tools](https://geo-python-site.readthedocs.io/en/latest/course-info/ai-tools.html) and understand that misuse of AI tools is considered cheating."
   ]
  },
  {
   "cell_type": "markdown",
   "metadata": {
    "deletable": false,
    "nbgrader": {
     "cell_type": "markdown",
     "checksum": "3bb5d1793afe421eb01ccbafb4af6f83",
     "grade": true,
     "grade_id": "E5-P3-AI-LLM_statement",
     "locked": false,
     "points": 0,
     "schema_version": 3,
     "solution": true,
     "task": false
    },
    "tags": []
   },
   "source": [
    "YOUR ANSWER HERE"
   ]
  },
  {
   "cell_type": "markdown",
   "metadata": {
    "deletable": false,
    "editable": false,
    "nbgrader": {
     "cell_type": "markdown",
     "checksum": "1b6ab534a2cd475117b7d0016c7cf9f3",
     "grade": false,
     "grade_id": "cell-33c2d0518738c711",
     "locked": true,
     "schema_version": 3,
     "solution": false,
     "task": false
    }
   },
   "source": [
    "### Part 1 (0 points)\n",
    "\n",
    "First, you need to load the data from Problem 2.\n",
    "\n",
    "- Read in the csv files generated in Problem 2 to the variables `kumpula` and `rovaniemi`"
   ]
  },
  {
   "cell_type": "code",
   "execution_count": null,
   "metadata": {
    "deletable": false,
    "nbgrader": {
     "cell_type": "code",
     "checksum": "deb603f4e6e03059689d01f3d8ca3044",
     "grade": false,
     "grade_id": "problem_3_ag_p1_read_data",
     "locked": false,
     "schema_version": 3,
     "solution": true
    }
   },
   "outputs": [],
   "source": [
    "kumpula = None\n",
    "rovaniemi = None\n",
    "\n",
    "# YOUR CODE HERE\n",
    "raise NotImplementedError()"
   ]
  },
  {
   "cell_type": "code",
   "execution_count": 1,
   "metadata": {},
   "outputs": [],
   "source": [
    "import pandas as pd"
   ]
  },
  {
   "cell_type": "code",
   "execution_count": 3,
   "metadata": {},
   "outputs": [],
   "source": [
    "kumpula = pd.read_csv(\"Kumpula_temps_May_Aug_2017.csv\")"
   ]
  },
  {
   "cell_type": "code",
   "execution_count": 4,
   "metadata": {},
   "outputs": [],
   "source": [
    "rovaniemi = pd.read_csv(\"Rovaniemi_temps_May_Aug_2017.csv\")"
   ]
  },
  {
   "cell_type": "code",
   "execution_count": 5,
   "metadata": {},
   "outputs": [
    {
     "name": "stdout",
     "output_type": "stream",
     "text": [
      "   Unnamed: 0   USAF  YR--MODAHRMN  TEMP  MAX  MIN  Celsius\n",
      "0        8770  29980  201705010000  37.0  NaN  NaN        3\n",
      "1        8771  29980  201705010100  37.0  NaN  NaN        3\n",
      "2        8772  29980  201705010200  37.0  NaN  NaN        3\n",
      "3        8773  29980  201705010300  37.0  NaN  NaN        3\n",
      "4        8774  29980  201705010400  39.0  NaN  NaN        4\n",
      "\n",
      "   Unnamed: 0   USAF  YR--MODAHRMN  TEMP  MAX  MIN  Celsius\n",
      "0           0  28450  201705010000  31.0  NaN  NaN       -1\n",
      "1           1  28450  201705010020  30.0  NaN  NaN       -1\n",
      "2           2  28450  201705010050  30.0  NaN  NaN       -1\n",
      "3           3  28450  201705010100  31.0  NaN  NaN       -1\n",
      "4           4  28450  201705010120  30.0  NaN  NaN       -1\n"
     ]
    }
   ],
   "source": [
    "print(kumpula.head())\n",
    "print(\"\")\n",
    "print(rovaniemi.head())"
   ]
  },
  {
   "cell_type": "markdown",
   "metadata": {
    "deletable": false,
    "editable": false,
    "nbgrader": {
     "cell_type": "markdown",
     "checksum": "a5318107021b10fe1830ba30bcc46e89",
     "grade": false,
     "grade_id": "cell-c25a29efbcf77ee7",
     "locked": true,
     "schema_version": 3,
     "solution": false,
     "task": false
    }
   },
   "source": [
    "### Part 2 (1 points)\n",
    "\n",
    "Next you can find the *median temperatures* for the period the data covers.\n",
    "\n",
    "- What was the median Celsius temperature during the observed period in:\n",
    "    - Helsinki Kumpula? (store the answer in a variable `kumpula_median`)\n",
    "    - Rovaniemi? (store the answer in a variable `rovaniemi_median`)"
   ]
  },
  {
   "cell_type": "code",
   "execution_count": null,
   "metadata": {
    "deletable": false,
    "nbgrader": {
     "cell_type": "code",
     "checksum": "975856c4e5d377c3aaabec3af0fe53da",
     "grade": false,
     "grade_id": "problem_3_ag_p2_median",
     "locked": false,
     "schema_version": 3,
     "solution": true
    }
   },
   "outputs": [],
   "source": [
    "kumpula_median = None\n",
    "rovaniemi_median = None\n",
    "\n",
    "# YOUR CODE HERE\n",
    "raise NotImplementedError()"
   ]
  },
  {
   "cell_type": "code",
   "execution_count": 8,
   "metadata": {},
   "outputs": [],
   "source": [
    "kumpula_median = kumpula[\"Celsius\"].median()"
   ]
  },
  {
   "cell_type": "code",
   "execution_count": 10,
   "metadata": {},
   "outputs": [],
   "source": [
    "rovaniemi_median = rovaniemi[\"Celsius\"].median()"
   ]
  },
  {
   "cell_type": "code",
   "execution_count": 11,
   "metadata": {},
   "outputs": [
    {
     "data": {
      "text/plain": [
       "np.float64(11.0)"
      ]
     },
     "execution_count": 11,
     "metadata": {},
     "output_type": "execute_result"
    }
   ],
   "source": [
    "rovaniemi_median"
   ]
  },
  {
   "cell_type": "code",
   "execution_count": 12,
   "metadata": {
    "deletable": false,
    "editable": false,
    "nbgrader": {
     "cell_type": "code",
     "checksum": "c74731bd13e85d92c4c9c1b77dabc589",
     "grade": true,
     "grade_id": "problem_3_ag_p2_median_test",
     "locked": true,
     "points": 1,
     "schema_version": 3,
     "solution": false
    }
   },
   "outputs": [
    {
     "name": "stdout",
     "output_type": "stream",
     "text": [
      "Kumpula median: 14.0\n",
      "Rovaniemi median: 11.0\n"
     ]
    }
   ],
   "source": [
    "# Prints the median temperatures\n",
    "print(f\"Kumpula median: {kumpula_median}\")\n",
    "print(f\"Rovaniemi median: {rovaniemi_median}\")\n"
   ]
  },
  {
   "cell_type": "markdown",
   "metadata": {
    "deletable": false,
    "editable": false,
    "nbgrader": {
     "cell_type": "markdown",
     "checksum": "e78788aaa693f3cbdff98a364cf9b494",
     "grade": false,
     "grade_id": "cell-6eda08b036b421d9",
     "locked": true,
     "schema_version": 3,
     "solution": false,
     "task": false
    }
   },
   "source": [
    "### Part 3 (2 points)\n",
    "\n",
    "The median temperatures above consider data from the entire summer (May-Aug), hence the differences might not be so clear. Let's now find the *mean temperatures* from May and June 2017 in Kumpula and Rovaniemi.\n",
    "\n",
    "- From the `kumpula` and `rovaniemi` DataFrames, select the rows where values of the `YR--MODAHRMN` column are from May 2017\n",
    "    - Assign these selected rows to the variables `kumpula_may` and `rovaniemi_may` (you can check the [hints](https://geo-python.github.io/site/lessons/L5/exercise-5.html) for help!)\n",
    "- Repeat the procedure for the month of June and assign those values to variables to `kumpula_june` and `rovaniemi_june`"
   ]
  },
  {
   "cell_type": "code",
   "execution_count": null,
   "metadata": {
    "deletable": false,
    "nbgrader": {
     "cell_type": "code",
     "checksum": "e658e48c072ada99e4541860ebaf0095",
     "grade": false,
     "grade_id": "problem_3_ag_p3_may",
     "locked": false,
     "schema_version": 3,
     "solution": true
    }
   },
   "outputs": [],
   "source": [
    "# Select the subset of the Kumpula and Rovaniemi data for the 5th and 6th month\n",
    "kumpula_may = None\n",
    "rovaniemi_may = None\n",
    "\n",
    "kumpula_june = None\n",
    "rovaniemi_june = None\n",
    "\n",
    "# YOUR CODE HERE\n",
    "raise NotImplementedError()"
   ]
  },
  {
   "cell_type": "code",
   "execution_count": 26,
   "metadata": {},
   "outputs": [],
   "source": [
    "kumpula_may = kumpula.loc[(kumpula[\"YR--MODAHRMN\"] >= 201705010000) & (kumpula[\"YR--MODAHRMN\"] <= 201705312300)]"
   ]
  },
  {
   "cell_type": "code",
   "execution_count": 27,
   "metadata": {},
   "outputs": [
    {
     "data": {
      "text/html": [
       "<div>\n",
       "<style scoped>\n",
       "    .dataframe tbody tr th:only-of-type {\n",
       "        vertical-align: middle;\n",
       "    }\n",
       "\n",
       "    .dataframe tbody tr th {\n",
       "        vertical-align: top;\n",
       "    }\n",
       "\n",
       "    .dataframe thead th {\n",
       "        text-align: right;\n",
       "    }\n",
       "</style>\n",
       "<table border=\"1\" class=\"dataframe\">\n",
       "  <thead>\n",
       "    <tr style=\"text-align: right;\">\n",
       "      <th></th>\n",
       "      <th>Unnamed: 0</th>\n",
       "      <th>USAF</th>\n",
       "      <th>YR--MODAHRMN</th>\n",
       "      <th>TEMP</th>\n",
       "      <th>MAX</th>\n",
       "      <th>MIN</th>\n",
       "      <th>Celsius</th>\n",
       "    </tr>\n",
       "  </thead>\n",
       "  <tbody>\n",
       "    <tr>\n",
       "      <th>0</th>\n",
       "      <td>8770</td>\n",
       "      <td>29980</td>\n",
       "      <td>201705010000</td>\n",
       "      <td>37.0</td>\n",
       "      <td>NaN</td>\n",
       "      <td>NaN</td>\n",
       "      <td>3</td>\n",
       "    </tr>\n",
       "    <tr>\n",
       "      <th>1</th>\n",
       "      <td>8771</td>\n",
       "      <td>29980</td>\n",
       "      <td>201705010100</td>\n",
       "      <td>37.0</td>\n",
       "      <td>NaN</td>\n",
       "      <td>NaN</td>\n",
       "      <td>3</td>\n",
       "    </tr>\n",
       "    <tr>\n",
       "      <th>2</th>\n",
       "      <td>8772</td>\n",
       "      <td>29980</td>\n",
       "      <td>201705010200</td>\n",
       "      <td>37.0</td>\n",
       "      <td>NaN</td>\n",
       "      <td>NaN</td>\n",
       "      <td>3</td>\n",
       "    </tr>\n",
       "    <tr>\n",
       "      <th>3</th>\n",
       "      <td>8773</td>\n",
       "      <td>29980</td>\n",
       "      <td>201705010300</td>\n",
       "      <td>37.0</td>\n",
       "      <td>NaN</td>\n",
       "      <td>NaN</td>\n",
       "      <td>3</td>\n",
       "    </tr>\n",
       "    <tr>\n",
       "      <th>4</th>\n",
       "      <td>8774</td>\n",
       "      <td>29980</td>\n",
       "      <td>201705010400</td>\n",
       "      <td>39.0</td>\n",
       "      <td>NaN</td>\n",
       "      <td>NaN</td>\n",
       "      <td>4</td>\n",
       "    </tr>\n",
       "  </tbody>\n",
       "</table>\n",
       "</div>"
      ],
      "text/plain": [
       "   Unnamed: 0   USAF  YR--MODAHRMN  TEMP  MAX  MIN  Celsius\n",
       "0        8770  29980  201705010000  37.0  NaN  NaN        3\n",
       "1        8771  29980  201705010100  37.0  NaN  NaN        3\n",
       "2        8772  29980  201705010200  37.0  NaN  NaN        3\n",
       "3        8773  29980  201705010300  37.0  NaN  NaN        3\n",
       "4        8774  29980  201705010400  39.0  NaN  NaN        4"
      ]
     },
     "execution_count": 27,
     "metadata": {},
     "output_type": "execute_result"
    }
   ],
   "source": [
    "kumpula_may.head()"
   ]
  },
  {
   "cell_type": "code",
   "execution_count": 28,
   "metadata": {},
   "outputs": [],
   "source": [
    "kumpula_june = kumpula.loc[(kumpula[\"YR--MODAHRMN\"] >= 201706010000) & (kumpula[\"YR--MODAHRMN\"] <= 201706302300)]"
   ]
  },
  {
   "cell_type": "code",
   "execution_count": 29,
   "metadata": {},
   "outputs": [
    {
     "data": {
      "text/html": [
       "<div>\n",
       "<style scoped>\n",
       "    .dataframe tbody tr th:only-of-type {\n",
       "        vertical-align: middle;\n",
       "    }\n",
       "\n",
       "    .dataframe tbody tr th {\n",
       "        vertical-align: top;\n",
       "    }\n",
       "\n",
       "    .dataframe thead th {\n",
       "        text-align: right;\n",
       "    }\n",
       "</style>\n",
       "<table border=\"1\" class=\"dataframe\">\n",
       "  <thead>\n",
       "    <tr style=\"text-align: right;\">\n",
       "      <th></th>\n",
       "      <th>Unnamed: 0</th>\n",
       "      <th>USAF</th>\n",
       "      <th>YR--MODAHRMN</th>\n",
       "      <th>TEMP</th>\n",
       "      <th>MAX</th>\n",
       "      <th>MIN</th>\n",
       "      <th>Celsius</th>\n",
       "    </tr>\n",
       "  </thead>\n",
       "  <tbody>\n",
       "    <tr>\n",
       "      <th>741</th>\n",
       "      <td>9511</td>\n",
       "      <td>29980</td>\n",
       "      <td>201706010000</td>\n",
       "      <td>42.0</td>\n",
       "      <td>NaN</td>\n",
       "      <td>NaN</td>\n",
       "      <td>6</td>\n",
       "    </tr>\n",
       "    <tr>\n",
       "      <th>742</th>\n",
       "      <td>9512</td>\n",
       "      <td>29980</td>\n",
       "      <td>201706010100</td>\n",
       "      <td>40.0</td>\n",
       "      <td>NaN</td>\n",
       "      <td>NaN</td>\n",
       "      <td>4</td>\n",
       "    </tr>\n",
       "    <tr>\n",
       "      <th>743</th>\n",
       "      <td>9513</td>\n",
       "      <td>29980</td>\n",
       "      <td>201706010200</td>\n",
       "      <td>40.0</td>\n",
       "      <td>NaN</td>\n",
       "      <td>NaN</td>\n",
       "      <td>4</td>\n",
       "    </tr>\n",
       "    <tr>\n",
       "      <th>744</th>\n",
       "      <td>9514</td>\n",
       "      <td>29980</td>\n",
       "      <td>201706010300</td>\n",
       "      <td>41.0</td>\n",
       "      <td>NaN</td>\n",
       "      <td>NaN</td>\n",
       "      <td>5</td>\n",
       "    </tr>\n",
       "    <tr>\n",
       "      <th>745</th>\n",
       "      <td>9515</td>\n",
       "      <td>29980</td>\n",
       "      <td>201706010400</td>\n",
       "      <td>44.0</td>\n",
       "      <td>NaN</td>\n",
       "      <td>NaN</td>\n",
       "      <td>7</td>\n",
       "    </tr>\n",
       "  </tbody>\n",
       "</table>\n",
       "</div>"
      ],
      "text/plain": [
       "     Unnamed: 0   USAF  YR--MODAHRMN  TEMP  MAX  MIN  Celsius\n",
       "741        9511  29980  201706010000  42.0  NaN  NaN        6\n",
       "742        9512  29980  201706010100  40.0  NaN  NaN        4\n",
       "743        9513  29980  201706010200  40.0  NaN  NaN        4\n",
       "744        9514  29980  201706010300  41.0  NaN  NaN        5\n",
       "745        9515  29980  201706010400  44.0  NaN  NaN        7"
      ]
     },
     "execution_count": 29,
     "metadata": {},
     "output_type": "execute_result"
    }
   ],
   "source": [
    "kumpula_june.head()"
   ]
  },
  {
   "cell_type": "code",
   "execution_count": 30,
   "metadata": {},
   "outputs": [],
   "source": [
    "rovaniemi_may = rovaniemi.loc[(rovaniemi[\"YR--MODAHRMN\"] >= 201705010000) & (rovaniemi[\"YR--MODAHRMN\"] <= 201705312300)]"
   ]
  },
  {
   "cell_type": "code",
   "execution_count": 31,
   "metadata": {},
   "outputs": [
    {
     "data": {
      "text/html": [
       "<div>\n",
       "<style scoped>\n",
       "    .dataframe tbody tr th:only-of-type {\n",
       "        vertical-align: middle;\n",
       "    }\n",
       "\n",
       "    .dataframe tbody tr th {\n",
       "        vertical-align: top;\n",
       "    }\n",
       "\n",
       "    .dataframe thead th {\n",
       "        text-align: right;\n",
       "    }\n",
       "</style>\n",
       "<table border=\"1\" class=\"dataframe\">\n",
       "  <thead>\n",
       "    <tr style=\"text-align: right;\">\n",
       "      <th></th>\n",
       "      <th>Unnamed: 0</th>\n",
       "      <th>USAF</th>\n",
       "      <th>YR--MODAHRMN</th>\n",
       "      <th>TEMP</th>\n",
       "      <th>MAX</th>\n",
       "      <th>MIN</th>\n",
       "      <th>Celsius</th>\n",
       "    </tr>\n",
       "  </thead>\n",
       "  <tbody>\n",
       "    <tr>\n",
       "      <th>0</th>\n",
       "      <td>0</td>\n",
       "      <td>28450</td>\n",
       "      <td>201705010000</td>\n",
       "      <td>31.0</td>\n",
       "      <td>NaN</td>\n",
       "      <td>NaN</td>\n",
       "      <td>-1</td>\n",
       "    </tr>\n",
       "    <tr>\n",
       "      <th>1</th>\n",
       "      <td>1</td>\n",
       "      <td>28450</td>\n",
       "      <td>201705010020</td>\n",
       "      <td>30.0</td>\n",
       "      <td>NaN</td>\n",
       "      <td>NaN</td>\n",
       "      <td>-1</td>\n",
       "    </tr>\n",
       "    <tr>\n",
       "      <th>2</th>\n",
       "      <td>2</td>\n",
       "      <td>28450</td>\n",
       "      <td>201705010050</td>\n",
       "      <td>30.0</td>\n",
       "      <td>NaN</td>\n",
       "      <td>NaN</td>\n",
       "      <td>-1</td>\n",
       "    </tr>\n",
       "    <tr>\n",
       "      <th>3</th>\n",
       "      <td>3</td>\n",
       "      <td>28450</td>\n",
       "      <td>201705010100</td>\n",
       "      <td>31.0</td>\n",
       "      <td>NaN</td>\n",
       "      <td>NaN</td>\n",
       "      <td>-1</td>\n",
       "    </tr>\n",
       "    <tr>\n",
       "      <th>4</th>\n",
       "      <td>4</td>\n",
       "      <td>28450</td>\n",
       "      <td>201705010120</td>\n",
       "      <td>30.0</td>\n",
       "      <td>NaN</td>\n",
       "      <td>NaN</td>\n",
       "      <td>-1</td>\n",
       "    </tr>\n",
       "  </tbody>\n",
       "</table>\n",
       "</div>"
      ],
      "text/plain": [
       "   Unnamed: 0   USAF  YR--MODAHRMN  TEMP  MAX  MIN  Celsius\n",
       "0           0  28450  201705010000  31.0  NaN  NaN       -1\n",
       "1           1  28450  201705010020  30.0  NaN  NaN       -1\n",
       "2           2  28450  201705010050  30.0  NaN  NaN       -1\n",
       "3           3  28450  201705010100  31.0  NaN  NaN       -1\n",
       "4           4  28450  201705010120  30.0  NaN  NaN       -1"
      ]
     },
     "execution_count": 31,
     "metadata": {},
     "output_type": "execute_result"
    }
   ],
   "source": [
    "rovaniemi_may.head()"
   ]
  },
  {
   "cell_type": "code",
   "execution_count": 32,
   "metadata": {},
   "outputs": [],
   "source": [
    "rovaniemi_june = rovaniemi.loc[(rovaniemi[\"YR--MODAHRMN\"] >= 201706010000) & (rovaniemi[\"YR--MODAHRMN\"] <= 201706302300)]"
   ]
  },
  {
   "cell_type": "code",
   "execution_count": 33,
   "metadata": {},
   "outputs": [
    {
     "data": {
      "text/html": [
       "<div>\n",
       "<style scoped>\n",
       "    .dataframe tbody tr th:only-of-type {\n",
       "        vertical-align: middle;\n",
       "    }\n",
       "\n",
       "    .dataframe tbody tr th {\n",
       "        vertical-align: top;\n",
       "    }\n",
       "\n",
       "    .dataframe thead th {\n",
       "        text-align: right;\n",
       "    }\n",
       "</style>\n",
       "<table border=\"1\" class=\"dataframe\">\n",
       "  <thead>\n",
       "    <tr style=\"text-align: right;\">\n",
       "      <th></th>\n",
       "      <th>Unnamed: 0</th>\n",
       "      <th>USAF</th>\n",
       "      <th>YR--MODAHRMN</th>\n",
       "      <th>TEMP</th>\n",
       "      <th>MAX</th>\n",
       "      <th>MIN</th>\n",
       "      <th>Celsius</th>\n",
       "    </tr>\n",
       "  </thead>\n",
       "  <tbody>\n",
       "    <tr>\n",
       "      <th>2220</th>\n",
       "      <td>2222</td>\n",
       "      <td>28450</td>\n",
       "      <td>201706010000</td>\n",
       "      <td>32.0</td>\n",
       "      <td>NaN</td>\n",
       "      <td>NaN</td>\n",
       "      <td>0</td>\n",
       "    </tr>\n",
       "    <tr>\n",
       "      <th>2221</th>\n",
       "      <td>2223</td>\n",
       "      <td>28450</td>\n",
       "      <td>201706010020</td>\n",
       "      <td>30.0</td>\n",
       "      <td>NaN</td>\n",
       "      <td>NaN</td>\n",
       "      <td>-1</td>\n",
       "    </tr>\n",
       "    <tr>\n",
       "      <th>2222</th>\n",
       "      <td>2224</td>\n",
       "      <td>28450</td>\n",
       "      <td>201706010050</td>\n",
       "      <td>30.0</td>\n",
       "      <td>NaN</td>\n",
       "      <td>NaN</td>\n",
       "      <td>-1</td>\n",
       "    </tr>\n",
       "    <tr>\n",
       "      <th>2223</th>\n",
       "      <td>2225</td>\n",
       "      <td>28450</td>\n",
       "      <td>201706010100</td>\n",
       "      <td>31.0</td>\n",
       "      <td>NaN</td>\n",
       "      <td>NaN</td>\n",
       "      <td>-1</td>\n",
       "    </tr>\n",
       "    <tr>\n",
       "      <th>2224</th>\n",
       "      <td>2226</td>\n",
       "      <td>28450</td>\n",
       "      <td>201706010120</td>\n",
       "      <td>30.0</td>\n",
       "      <td>NaN</td>\n",
       "      <td>NaN</td>\n",
       "      <td>-1</td>\n",
       "    </tr>\n",
       "  </tbody>\n",
       "</table>\n",
       "</div>"
      ],
      "text/plain": [
       "      Unnamed: 0   USAF  YR--MODAHRMN  TEMP  MAX  MIN  Celsius\n",
       "2220        2222  28450  201706010000  32.0  NaN  NaN        0\n",
       "2221        2223  28450  201706010020  30.0  NaN  NaN       -1\n",
       "2222        2224  28450  201706010050  30.0  NaN  NaN       -1\n",
       "2223        2225  28450  201706010100  31.0  NaN  NaN       -1\n",
       "2224        2226  28450  201706010120  30.0  NaN  NaN       -1"
      ]
     },
     "execution_count": 33,
     "metadata": {},
     "output_type": "execute_result"
    }
   ],
   "source": [
    "rovaniemi_june.head()"
   ]
  },
  {
   "cell_type": "markdown",
   "metadata": {
    "deletable": false,
    "editable": false,
    "nbgrader": {
     "cell_type": "markdown",
     "checksum": "ced113a7a44f6c3bc88de58a3dc62056",
     "grade": false,
     "grade_id": "cell-c20a16ae3d1442cb",
     "locked": true,
     "schema_version": 3,
     "solution": false,
     "task": false
    }
   },
   "source": [
    "Check that the subsets look ok:"
   ]
  },
  {
   "cell_type": "code",
   "execution_count": 34,
   "metadata": {
    "deletable": false,
    "editable": false,
    "nbgrader": {
     "cell_type": "code",
     "checksum": "2b46b5ac73b0c1ecdec568ab8da5f07d",
     "grade": true,
     "grade_id": "problem_3_ag_p3_Kumpula_may_test",
     "locked": true,
     "points": 0.5,
     "schema_version": 3,
     "solution": false
    }
   },
   "outputs": [
    {
     "name": "stdout",
     "output_type": "stream",
     "text": [
      "First values in May, Kumpula:\n",
      "   Unnamed: 0   USAF  YR--MODAHRMN  TEMP  MAX  MIN  Celsius\n",
      "0        8770  29980  201705010000  37.0  NaN  NaN        3\n",
      "1        8771  29980  201705010100  37.0  NaN  NaN        3\n",
      "2        8772  29980  201705010200  37.0  NaN  NaN        3\n",
      "3        8773  29980  201705010300  37.0  NaN  NaN        3\n",
      "4        8774  29980  201705010400  39.0  NaN  NaN        4\n",
      "\n",
      "Last values in May, Kumpula:\n",
      "     Unnamed: 0   USAF  YR--MODAHRMN  TEMP  MAX  MIN  Celsius\n",
      "736        9506  29980  201705311900  51.0  NaN  NaN       11\n",
      "737        9507  29980  201705312000  50.0  NaN  NaN       10\n",
      "738        9508  29980  201705312100  47.0  NaN  NaN        8\n",
      "739        9509  29980  201705312200  44.0  NaN  NaN        7\n",
      "740        9510  29980  201705312300  43.0  NaN  NaN        6\n"
     ]
    }
   ],
   "source": [
    "print(f\"First values in May, Kumpula:\\n{kumpula_may.head()}\\n\")\n",
    "print(f\"Last values in May, Kumpula:\\n{kumpula_may.tail()}\")"
   ]
  },
  {
   "cell_type": "code",
   "execution_count": 35,
   "metadata": {
    "deletable": false,
    "editable": false,
    "nbgrader": {
     "cell_type": "code",
     "checksum": "e4d83fa396f745a05cfd902c4107fc23",
     "grade": true,
     "grade_id": "problem_3_ag_p3_Kumpula_june_test",
     "locked": true,
     "points": 0.5,
     "schema_version": 3,
     "solution": false,
     "task": false
    }
   },
   "outputs": [
    {
     "name": "stdout",
     "output_type": "stream",
     "text": [
      "First values in June, Kumpula:\n",
      "     Unnamed: 0   USAF  YR--MODAHRMN  TEMP  MAX  MIN  Celsius\n",
      "741        9511  29980  201706010000  42.0  NaN  NaN        6\n",
      "742        9512  29980  201706010100  40.0  NaN  NaN        4\n",
      "743        9513  29980  201706010200  40.0  NaN  NaN        4\n",
      "744        9514  29980  201706010300  41.0  NaN  NaN        5\n",
      "745        9515  29980  201706010400  44.0  NaN  NaN        7\n",
      "\n",
      "Last values in June, Kumpula:\n",
      "      Unnamed: 0   USAF  YR--MODAHRMN  TEMP  MAX  MIN  Celsius\n",
      "1450       10220  29980  201706301900  65.0  NaN  NaN       18\n",
      "1451       10221  29980  201706302000  61.0  NaN  NaN       16\n",
      "1452       10222  29980  201706302100  63.0  NaN  NaN       17\n",
      "1453       10223  29980  201706302200  62.0  NaN  NaN       17\n",
      "1454       10224  29980  201706302300  61.0  NaN  NaN       16\n"
     ]
    }
   ],
   "source": [
    "print(f\"First values in June, Kumpula:\\n{kumpula_june.head()}\\n\")\n",
    "print(f\"Last values in June, Kumpula:\\n{kumpula_june.tail()}\")"
   ]
  },
  {
   "cell_type": "code",
   "execution_count": 36,
   "metadata": {
    "deletable": false,
    "editable": false,
    "nbgrader": {
     "cell_type": "code",
     "checksum": "227099ba97029cbeb597834860f637b2",
     "grade": true,
     "grade_id": "problem_3_ag_p3_Rovaniemi_may_test",
     "locked": true,
     "points": 0.5,
     "schema_version": 3,
     "solution": false
    }
   },
   "outputs": [
    {
     "name": "stdout",
     "output_type": "stream",
     "text": [
      "First values in May, Rovaniemi:\n",
      "   Unnamed: 0   USAF  YR--MODAHRMN  TEMP  MAX  MIN  Celsius\n",
      "0           0  28450  201705010000  31.0  NaN  NaN       -1\n",
      "1           1  28450  201705010020  30.0  NaN  NaN       -1\n",
      "2           2  28450  201705010050  30.0  NaN  NaN       -1\n",
      "3           3  28450  201705010100  31.0  NaN  NaN       -1\n",
      "4           4  28450  201705010120  30.0  NaN  NaN       -1\n",
      "\n",
      "Last values in May, Rovaniemi:\n",
      "      Unnamed: 0   USAF  YR--MODAHRMN  TEMP  MAX  MIN  Celsius\n",
      "2213        2215  28450  201705312150  34.0  NaN  NaN        1\n",
      "2214        2216  28450  201705312200  34.0  NaN  NaN        1\n",
      "2215        2217  28450  201705312220  32.0  NaN  NaN        0\n",
      "2216        2218  28450  201705312250  32.0  NaN  NaN        0\n",
      "2217        2219  28450  201705312300  33.0  NaN  NaN        1\n"
     ]
    }
   ],
   "source": [
    "print(f\"First values in May, Rovaniemi:\\n{rovaniemi_may.head()}\\n\")\n",
    "print(f\"Last values in May, Rovaniemi:\\n{rovaniemi_may.tail()}\")"
   ]
  },
  {
   "cell_type": "code",
   "execution_count": 37,
   "metadata": {
    "deletable": false,
    "editable": false,
    "nbgrader": {
     "cell_type": "code",
     "checksum": "b1479509bbe424439169f91d57fa1c54",
     "grade": true,
     "grade_id": "problem_3_ag_p3_Rovaniemi_june_test",
     "locked": true,
     "points": 0.5,
     "schema_version": 3,
     "solution": false,
     "task": false
    }
   },
   "outputs": [
    {
     "name": "stdout",
     "output_type": "stream",
     "text": [
      "First values in June, Rovaniemi:\n",
      "      Unnamed: 0   USAF  YR--MODAHRMN  TEMP  MAX  MIN  Celsius\n",
      "2220        2222  28450  201706010000  32.0  NaN  NaN        0\n",
      "2221        2223  28450  201706010020  30.0  NaN  NaN       -1\n",
      "2222        2224  28450  201706010050  30.0  NaN  NaN       -1\n",
      "2223        2225  28450  201706010100  31.0  NaN  NaN       -1\n",
      "2224        2226  28450  201706010120  30.0  NaN  NaN       -1\n",
      "\n",
      "Last values in June, Rovaniemi:\n",
      "      Unnamed: 0   USAF  YR--MODAHRMN  TEMP  MAX  MIN  Celsius\n",
      "4340        4342  28450  201706302150  59.0  NaN  NaN       15\n",
      "4341        4343  28450  201706302200  58.0  NaN  NaN       14\n",
      "4342        4344  28450  201706302220  57.0  NaN  NaN       14\n",
      "4343        4345  28450  201706302250  57.0  NaN  NaN       14\n",
      "4344        4346  28450  201706302300  56.0  NaN  NaN       13\n"
     ]
    }
   ],
   "source": [
    "print(f\"First values in June, Rovaniemi:\\n{rovaniemi_june.head()}\\n\")\n",
    "print(f\"Last values in June, Rovaniemi:\\n{rovaniemi_june.tail()}\")"
   ]
  },
  {
   "cell_type": "markdown",
   "metadata": {
    "deletable": false,
    "editable": false,
    "nbgrader": {
     "cell_type": "markdown",
     "checksum": "a65a68a4bf3075ccc9de3bb5ce5266c1",
     "grade": false,
     "grade_id": "cell-5d735e872f16ccd5",
     "locked": true,
     "schema_version": 3,
     "solution": false,
     "task": false
    }
   },
   "source": [
    "### Part 4 (1 point)\n",
    "\n",
    "Now you can make your temperature data from both locations and months easier to compare by printing out a few useful values.\n",
    "\n",
    "- Use the `print()` function to show the mean, min and max Celsius temperatures for both places in May and June using the new subset dataframes (`kumpula_may`, `rovaniemi_may`, `kumpula_june`, and `rovaniemi_june`)."
   ]
  },
  {
   "cell_type": "code",
   "execution_count": null,
   "metadata": {
    "deletable": false,
    "nbgrader": {
     "cell_type": "code",
     "checksum": "12a6c95dd173d219530d35b72f81490f",
     "grade": true,
     "grade_id": "problem_3_mg_p4_May_and_June_stats",
     "locked": false,
     "points": 1,
     "schema_version": 3,
     "solution": true
    }
   },
   "outputs": [],
   "source": [
    "# YOUR CODE HERE\n",
    "raise NotImplementedError()"
   ]
  },
  {
   "cell_type": "code",
   "execution_count": 41,
   "metadata": {},
   "outputs": [
    {
     "name": "stdout",
     "output_type": "stream",
     "text": [
      "count    741.000000\n",
      "mean       9.758435\n",
      "std        5.020735\n",
      "min       -2.000000\n",
      "25%        7.000000\n",
      "50%       10.000000\n",
      "75%       13.000000\n",
      "max       23.000000\n",
      "Name: Celsius, dtype: float64\n"
     ]
    }
   ],
   "source": [
    "print(kumpula_may[\"Celsius\"].describe())"
   ]
  },
  {
   "cell_type": "code",
   "execution_count": 40,
   "metadata": {},
   "outputs": [
    {
     "name": "stdout",
     "output_type": "stream",
     "text": [
      "count    2218.000000\n",
      "mean        2.989179\n",
      "std         3.828986\n",
      "min        -7.000000\n",
      "25%         0.000000\n",
      "50%         3.000000\n",
      "75%         6.000000\n",
      "max        15.000000\n",
      "Name: Celsius, dtype: float64\n"
     ]
    }
   ],
   "source": [
    "print(rovaniemi_may[\"Celsius\"].describe())"
   ]
  },
  {
   "cell_type": "code",
   "execution_count": 42,
   "metadata": {},
   "outputs": [
    {
     "name": "stdout",
     "output_type": "stream",
     "text": [
      "count    714.000000\n",
      "mean      13.732493\n",
      "std        4.073295\n",
      "min        3.000000\n",
      "25%       11.000000\n",
      "50%       13.000000\n",
      "75%       17.000000\n",
      "max       24.000000\n",
      "Name: Celsius, dtype: float64\n"
     ]
    }
   ],
   "source": [
    "print(kumpula_june[\"Celsius\"].describe())"
   ]
  },
  {
   "cell_type": "code",
   "execution_count": 43,
   "metadata": {},
   "outputs": [
    {
     "name": "stdout",
     "output_type": "stream",
     "text": [
      "count    2125.000000\n",
      "mean       11.014588\n",
      "std         5.450105\n",
      "min        -1.000000\n",
      "25%         7.000000\n",
      "50%        11.000000\n",
      "75%        14.000000\n",
      "max        23.000000\n",
      "Name: Celsius, dtype: float64\n"
     ]
    }
   ],
   "source": [
    "print(rovaniemi_june[\"Celsius\"].describe())"
   ]
  },
  {
   "cell_type": "markdown",
   "metadata": {
    "deletable": false,
    "editable": false,
    "nbgrader": {
     "cell_type": "markdown",
     "checksum": "c19a758e3ace532979854894a73433a0",
     "grade": false,
     "grade_id": "comments",
     "locked": true,
     "schema_version": 3,
     "solution": false
    }
   },
   "source": [
    "### Problem 3 summary\n",
    "\n",
    "In the spirit of [knowledge discovery](http://researcher.ibm.com/researcher/view_group.php?id=144), let's briefly interpret the results of the data analysis in Problem 3. Please answer the following questions based on the data analysis results from this problem:\n",
    "\n",
    "- Does there seem to be a large difference in temperatures between the months?\n",
    "- Is Rovaniemi a much colder place than Kumpula?\n",
    "\n",
    "Also, be sure to:\n",
    "\n",
    "- Check that your code includes informative comments explaining what your code does\n",
    "- Commit and push your changes to your GitHub repository for Exercise 5"
   ]
  },
  {
   "cell_type": "markdown",
   "metadata": {
    "deletable": false,
    "nbgrader": {
     "cell_type": "markdown",
     "checksum": "1f0848d8fe16e12f1951ccdd1b5edf83",
     "grade": true,
     "grade_id": "problem_3_mg_p5_questions",
     "locked": false,
     "points": 0,
     "schema_version": 3,
     "solution": true,
     "task": false
    }
   },
   "source": [
    "YOUR ANSWER HERE"
   ]
  },
  {
   "cell_type": "markdown",
   "metadata": {
    "deletable": false,
    "editable": false,
    "nbgrader": {
     "cell_type": "markdown",
     "checksum": "0e5f52b74f4ffaea57ca77ace2732647",
     "grade": false,
     "grade_id": "text",
     "locked": true,
     "schema_version": 3,
     "solution": false
    }
   },
   "source": [
    "### On to Problem 4 (*optional*)\n",
    "\n",
    "Now you can continue to the *optional* [Problem 4: Data analysis](Exercise-5-problem-4.ipynb)"
   ]
  }
 ],
 "metadata": {
  "anaconda-cloud": {},
  "kernelspec": {
   "display_name": "Python 3 (ipykernel)",
   "language": "python",
   "name": "python3"
  },
  "language_info": {
   "codemirror_mode": {
    "name": "ipython",
    "version": 3
   },
   "file_extension": ".py",
   "mimetype": "text/x-python",
   "name": "python",
   "nbconvert_exporter": "python",
   "pygments_lexer": "ipython3",
   "version": "3.12.4"
  }
 },
 "nbformat": 4,
 "nbformat_minor": 4
}

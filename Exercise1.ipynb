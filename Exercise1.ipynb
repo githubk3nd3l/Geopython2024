{
 "cells": [
  {
   "cell_type": "code",
   "execution_count": 1,
   "id": "bf7382e8-44f5-41c9-b38a-494e5347e8ac",
   "metadata": {},
   "outputs": [],
   "source": [
    "ice_cream_rating = 10"
   ]
  },
  {
   "cell_type": "code",
   "execution_count": 2,
   "id": "75c61ce4-c4ae-4d36-8cbb-7f1a7edc7a44",
   "metadata": {},
   "outputs": [],
   "source": [
    "sleeping_rating = 7"
   ]
  },
  {
   "cell_type": "code",
   "execution_count": 17,
   "id": "4fcf7221-69c9-4b78-8b15-dfdbbe3ba985",
   "metadata": {},
   "outputs": [],
   "source": [
    "first_name = 'Kendel'\n",
    "last_name = 'Bolanio'\n",
    "my_name = first_name + ' ' + last_name"
   ]
  },
  {
   "cell_type": "code",
   "execution_count": 4,
   "id": "2778b63e-1bf7-4228-bc10-79c913d238f6",
   "metadata": {},
   "outputs": [],
   "source": [
    "import math"
   ]
  },
  {
   "cell_type": "code",
   "execution_count": 8,
   "id": "c845e1ae-f504-491e-a8e5-689ca8645793",
   "metadata": {},
   "outputs": [],
   "source": [
    "happiness_rating = (ice_cream_rating + sleeping_rating) / 2"
   ]
  },
  {
   "cell_type": "code",
   "execution_count": 11,
   "id": "7ef9d965-3871-4ceb-bfc8-c315cc21d597",
   "metadata": {},
   "outputs": [
    {
     "data": {
      "text/plain": [
       "int"
      ]
     },
     "execution_count": 11,
     "metadata": {},
     "output_type": "execute_result"
    }
   ],
   "source": [
    "type(ice_cream_rating)"
   ]
  },
  {
   "cell_type": "code",
   "execution_count": 12,
   "id": "c10a5687-7100-4003-95a4-31f22827c1ce",
   "metadata": {},
   "outputs": [
    {
     "data": {
      "text/plain": [
       "str"
      ]
     },
     "execution_count": 12,
     "metadata": {},
     "output_type": "execute_result"
    }
   ],
   "source": [
    "type(first_name)"
   ]
  },
  {
   "cell_type": "code",
   "execution_count": 13,
   "id": "aca38394-97f0-495c-8d46-7f7590cb7078",
   "metadata": {},
   "outputs": [
    {
     "data": {
      "text/plain": [
       "float"
      ]
     },
     "execution_count": 13,
     "metadata": {},
     "output_type": "execute_result"
    }
   ],
   "source": [
    "type(happiness_rating)"
   ]
  },
  {
   "cell_type": "code",
   "execution_count": 19,
   "id": "bcc69e19-08e9-4770-aca7-458ea2367eb5",
   "metadata": {},
   "outputs": [
    {
     "name": "stdout",
     "output_type": "stream",
     "text": [
      "My name is Kendel and I give eating ice cream a score of 10 out of 10!\n",
      "I am Kendel Bolanio and my sleeping enjoyment rating is 7 / 10!\n",
      "Based on the factors above, my happiness rating is 8.5 out of 10 or 85.0 %!\n"
     ]
    }
   ],
   "source": [
    "print('My name is', first_name, 'and I give eating ice cream a score of', ice_cream_rating, 'out of 10!')\n",
    "print('I am', my_name, 'and my sleeping enjoyment rating is', sleeping_rating, '/ 10!')\n",
    "print('Based on the factors above, my happiness rating is', happiness_rating, 'out of 10', 'or', 100 * happiness_rating / 10, '%!')"
   ]
  },
  {
   "cell_type": "code",
   "execution_count": null,
   "id": "a9846691-2c15-40e8-b10f-2aec21942e41",
   "metadata": {},
   "outputs": [],
   "source": []
  }
 ],
 "metadata": {
  "kernelspec": {
   "display_name": "Python 3 (ipykernel)",
   "language": "python",
   "name": "python3"
  },
  "language_info": {
   "codemirror_mode": {
    "name": "ipython",
    "version": 3
   },
   "file_extension": ".py",
   "mimetype": "text/x-python",
   "name": "python",
   "nbconvert_exporter": "python",
   "pygments_lexer": "ipython3",
   "version": "3.12.4"
  }
 },
 "nbformat": 4,
 "nbformat_minor": 5
}
